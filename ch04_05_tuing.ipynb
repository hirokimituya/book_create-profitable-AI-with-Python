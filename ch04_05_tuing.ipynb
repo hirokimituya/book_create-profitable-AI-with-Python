{
  "nbformat": 4,
  "nbformat_minor": 0,
  "metadata": {
    "colab": {
      "provenance": [],
      "authorship_tag": "ABX9TyPEJoltR+EfEI0WlyQeMQss",
      "include_colab_link": true
    },
    "kernelspec": {
      "name": "python3",
      "display_name": "Python 3"
    },
    "language_info": {
      "name": "python"
    }
  },
  "cells": [
    {
      "cell_type": "markdown",
      "metadata": {
        "id": "view-in-github",
        "colab_type": "text"
      },
      "source": [
        "<a href=\"https://colab.research.google.com/github/hirokimituya/book_create-profitable-AI-with-Python/blob/main/ch04_05_tuing.ipynb\" target=\"_parent\"><img src=\"https://colab.research.google.com/assets/colab-badge.svg\" alt=\"Open In Colab\"/></a>"
      ]
    },
    {
      "cell_type": "markdown",
      "source": [
        "# チューニング\n"
      ],
      "metadata": {
        "id": "1a082QGX1GaD"
      }
    },
    {
      "cell_type": "code",
      "source": [
        "# 日本語化ライブラリ導入\n",
        "!pip install japanize-matplotlib | tail -n 1"
      ],
      "metadata": {
        "colab": {
          "base_uri": "https://localhost:8080/"
        },
        "id": "Y_VoNk1l2fau",
        "outputId": "3130cb99-e2ca-42d7-885e-1a82f05e5c8a"
      },
      "execution_count": 1,
      "outputs": [
        {
          "output_type": "stream",
          "name": "stdout",
          "text": [
            "Successfully installed japanize-matplotlib-1.1.3\n"
          ]
        }
      ]
    },
    {
      "cell_type": "code",
      "source": [
        "# 共通事前処理\n",
        "\n",
        "# 余分なワーニングを非表示にする\n",
        "import warnings\n",
        "warnings.filterwarnings('ignore')\n",
        "\n",
        "# 必要ライブラリのimport\n",
        "import pandas as pd\n",
        "import numpy as np\n",
        "import matplotlib.pyplot as plt\n",
        "\n",
        "# matplotlib日本語化対応\n",
        "import japanize_matplotlib\n",
        "\n",
        "# データフレーム表示用関数\n",
        "from IPython.display import display\n",
        "\n",
        "# 表示オプション調整\n",
        "# numpyの浮動小数点の表示精度\n",
        "np.set_printoptions(suppress=True, precision=4)\n",
        "# pandasでの浮動小数点の表示精度\n",
        "pd.options.display.float_format = '{:.4f}'.format\n",
        "# データフレームですべての項目を表示\n",
        "pd.set_option(\"display.max_columns\",None)\n",
        "# グラフのデフォルトフォント指定\n",
        "plt.rcParams[\"font.size\"] = 14\n",
        "# 乱数の種\n",
        "random_seed = 123"
      ],
      "metadata": {
        "id": "tajhvqG72heO"
      },
      "execution_count": 2,
      "outputs": []
    },
    {
      "cell_type": "markdown",
      "source": [
        "## 4.5.1 アルゴリズムの選択"
      ],
      "metadata": {
        "id": "NTKYb80C1F-i"
      }
    },
    {
      "cell_type": "code",
      "source": [
        "# サンプルデータの読み込み\n",
        "# （乳がん疾患データ）\n",
        "\n",
        "# データのロード\n",
        "from sklearn.datasets import load_breast_cancer\n",
        "cancer = load_breast_cancer()\n",
        "\n",
        "# 入力データ: x(30次元)\n",
        "# 正解データ: y\n",
        "x = cancer.data\n",
        "y = cancer.target"
      ],
      "metadata": {
        "id": "RFDw1bE61FXL"
      },
      "execution_count": 3,
      "outputs": []
    },
    {
      "cell_type": "code",
      "source": [
        "# サンプルデータの分割\n",
        "\n",
        "# データ分割のパラメータ\n",
        "test_size = 0.1\n",
        "\n",
        "# データ分割\n",
        "from sklearn.model_selection import train_test_split\n",
        "x_train, x_test, y_train, y_test = train_test_split(x, y, test_size=test_size,\n",
        "                                                    random_state=random_seed, stratify=y)\n",
        "\n",
        "# 分割後サイズ確認\n",
        "print(x.shape)\n",
        "print(x_train.shape)\n",
        "print(x_test.shape)"
      ],
      "metadata": {
        "colab": {
          "base_uri": "https://localhost:8080/"
        },
        "id": "BlRqgLrg19Yk",
        "outputId": "ba54b8e6-2b40-416b-a3e2-14e7c1dab2c1"
      },
      "execution_count": 4,
      "outputs": [
        {
          "output_type": "stream",
          "name": "stdout",
          "text": [
            "(569, 30)\n",
            "(512, 30)\n",
            "(57, 30)\n"
          ]
        }
      ]
    },
    {
      "cell_type": "code",
      "source": [
        "# 複数アルゴリズムで精度を比較\n",
        "# 結果が同じになるようrandom_stateは同一にする\n",
        "\n",
        "# 線形回帰\n",
        "from sklearn.linear_model import LogisticRegression\n",
        "algorithm1 = LogisticRegression(random_state=random_seed)\n",
        "\n",
        "# サーポートベクターマシン（カーネル）\n",
        "from sklearn.svm import SVC\n",
        "algorithm2 = SVC(kernel='rbf', random_state=random_seed)\n",
        "\n",
        "# 決定木\n",
        "from sklearn.tree import DecisionTreeClassifier\n",
        "algorithm3 = DecisionTreeClassifier(random_state=random_seed)\n",
        "\n",
        "# ランダムフォレスト\n",
        "from sklearn.ensemble import RandomForestClassifier\n",
        "algorithm4 = RandomForestClassifier(random_state=random_seed)\n",
        "\n",
        "# XGBoost\n",
        "from xgboost import XGBClassifier\n",
        "algorithm5 = XGBClassifier(random_state=random_seed)\n",
        "\n",
        "# アルゴリズムのリスト作成\n",
        "algorithms = [algorithm1, algorithm2, algorithm3, algorithm4, algorithm5]"
      ],
      "metadata": {
        "id": "zXbGqucs2qrW"
      },
      "execution_count": 5,
      "outputs": []
    },
    {
      "cell_type": "code",
      "source": [
        "# 複数アルゴリズムで精度比較\n",
        "for algorithm in algorithms:\n",
        "\n",
        "    # 訓練データで学習\n",
        "    algorithm.fit(x_train, y_train)\n",
        "\n",
        "    # 検証データで精度測定\n",
        "    score = algorithm.score(x_test, y_test)\n",
        "\n",
        "    # アルゴリズム名取得\n",
        "    name = algorithm.__class__.__name__\n",
        "\n",
        "    # 精度とアルゴリズム名表示\n",
        "    print(f'score: {score:.4f} {name}')"
      ],
      "metadata": {
        "colab": {
          "base_uri": "https://localhost:8080/"
        },
        "id": "RqUI0TnP30Rl",
        "outputId": "5a698d7b-ce77-4d8a-f0bb-6b71453792e4"
      },
      "execution_count": 6,
      "outputs": [
        {
          "output_type": "stream",
          "name": "stdout",
          "text": [
            "score: 0.9474 LogisticRegression\n",
            "score: 0.8947 SVC\n",
            "score: 0.9474 DecisionTreeClassifier\n",
            "score: 0.9298 RandomForestClassifier\n",
            "score: 0.9825 XGBClassifier\n"
          ]
        }
      ]
    },
    {
      "cell_type": "markdown",
      "source": [
        "## 4.5.2 ハイパーバラメータの最適化\n"
      ],
      "metadata": {
        "id": "6lPHb-x245na"
      }
    },
    {
      "cell_type": "code",
      "source": [
        "# デフォルトパラメータの確認\n",
        "algorithm = SVC(kernel='rbf', random_state=random_seed)\n",
        "print(algorithm)"
      ],
      "metadata": {
        "colab": {
          "base_uri": "https://localhost:8080/"
        },
        "id": "qVU---XM4g-Q",
        "outputId": "39a102e4-0f0d-4aa4-fb7d-2a8097d32ad9"
      },
      "execution_count": 7,
      "outputs": [
        {
          "output_type": "stream",
          "name": "stdout",
          "text": [
            "SVC(random_state=123)\n"
          ]
        }
      ]
    },
    {
      "cell_type": "code",
      "source": [
        "# gammasの最適化\n",
        "gammas = [1, 0.1, 0.01, 0.001, 0.0001, 0.00001]\n",
        "\n",
        "for gamma in gammas:\n",
        "    algorithm = SVC(kernel='rbf', gamma=gamma, random_state=random_seed)\n",
        "    algorithm.fit(x_train, y_train)\n",
        "    score = algorithm.score(x_test, y_test)\n",
        "    print(f'score: {score:.4f} gamma: {gamma}')"
      ],
      "metadata": {
        "colab": {
          "base_uri": "https://localhost:8080/"
        },
        "id": "Rx1IYqZP5PAK",
        "outputId": "35874c76-59cd-488a-a217-c47c708fd8e3"
      },
      "execution_count": 8,
      "outputs": [
        {
          "output_type": "stream",
          "name": "stdout",
          "text": [
            "score: 0.6316 gamma: 1\n",
            "score: 0.6316 gamma: 0.1\n",
            "score: 0.6316 gamma: 0.01\n",
            "score: 0.9474 gamma: 0.001\n",
            "score: 0.9474 gamma: 0.0001\n",
            "score: 0.9474 gamma: 1e-05\n"
          ]
        }
      ]
    },
    {
      "cell_type": "code",
      "source": [
        "# Cの最適化\n",
        "# gammaは先程調べた最適値0.001を採用\n",
        "\n",
        "Cs = [1, 10, 100, 1000, 10000]\n",
        "for C in Cs:\n",
        "    algorithm = SVC(kernel='rbf', gamma=0.001, C=C, random_state=random_seed)\n",
        "    algorithm.fit(x_train, y_train)\n",
        "    score = algorithm.score(x_test, y_test)\n",
        "    print(f'score: {score:.4f} C:{C}')"
      ],
      "metadata": {
        "colab": {
          "base_uri": "https://localhost:8080/"
        },
        "id": "vX5eOEij6BF-",
        "outputId": "3c08b4f4-1c4a-4898-f03c-afa8198a14fa"
      },
      "execution_count": 9,
      "outputs": [
        {
          "output_type": "stream",
          "name": "stdout",
          "text": [
            "score: 0.9474 C:1\n",
            "score: 0.9298 C:10\n",
            "score: 0.9298 C:100\n",
            "score: 0.9298 C:1000\n",
            "score: 0.9298 C:10000\n"
          ]
        }
      ]
    },
    {
      "cell_type": "markdown",
      "source": [
        "## 4.5.3 交差検定法"
      ],
      "metadata": {
        "id": "NEzhE0rE9FXl"
      }
    },
    {
      "cell_type": "code",
      "source": [
        "# 特定のアルゴリズムに対して交差検定を実施\n",
        "\n",
        "# アルゴリズムの定義\n",
        "algorithm = SVC(kernel='rbf', random_state=random_seed, gamma=0.001, C=1)\n",
        "\n",
        "# 分割時に正解データの分布が偏らないようにStratifiedKFoldを利用\n",
        "from sklearn.model_selection import StratifiedKFold\n",
        "stratifiedkfold = StratifiedKFold(n_splits=3)\n",
        "\n",
        "# 交差検定の実施（分割数=3）\n",
        "from sklearn.model_selection import cross_val_score\n",
        "scores = cross_val_score(algorithm, x_train, y_train, cv=stratifiedkfold)\n",
        "\n",
        "# 平均値の計算\n",
        "mean = scores.mean()\n",
        "\n",
        "# 結果表示\n",
        "print(f'平均スコア: {mean:.4f} 個別スコア: {scores}')"
      ],
      "metadata": {
        "colab": {
          "base_uri": "https://localhost:8080/"
        },
        "id": "vMnMCZ8e6l6-",
        "outputId": "19ba4089-d9b4-471e-ba73-39f7360518ea"
      },
      "execution_count": 10,
      "outputs": [
        {
          "output_type": "stream",
          "name": "stdout",
          "text": [
            "平均スコア: 0.9141 個別スコア: [0.8889 0.9181 0.9353]\n"
          ]
        }
      ]
    },
    {
      "cell_type": "code",
      "source": [
        "# 候補アルゴリズムのリスト作成\n",
        "\n",
        "from sklearn.linear_model import LogisticRegression\n",
        "algorithm1 = LogisticRegression(random_state=random_seed)\n",
        "\n",
        "from sklearn.svm import SVC\n",
        "algorithm2 = SVC(kernel='rbf', random_state=random_seed, gamma=0.001, C=1)\n",
        "\n",
        "from sklearn.tree import DecisionTreeClassifier\n",
        "algorithm3 = DecisionTreeClassifier(random_state=random_seed)\n",
        "\n",
        "from sklearn.ensemble import RandomForestClassifier\n",
        "algorithm4 = RandomForestClassifier(random_state=random_seed)\n",
        "\n",
        "from xgboost import XGBClassifier\n",
        "algorithm5 = XGBClassifier(random_state=random_seed)\n",
        "\n",
        "algorithms = [algorithm1, algorithm2, algorithm3,  algorithm4, algorithm5]"
      ],
      "metadata": {
        "id": "ObYojCsh-qG2"
      },
      "execution_count": 11,
      "outputs": []
    },
    {
      "cell_type": "code",
      "source": [
        "# 複数アルゴリズムで精度を比較\n",
        "\n",
        "# 分割時に正解データの分布が偏らないようにStratifiedKFoldを利用\n",
        "from sklearn.model_selection import StratifiedKFold\n",
        "stratifiedkfold = StratifiedKFold(n_splits=3)\n",
        "\n",
        "from sklearn.model_selection import cross_val_score\n",
        "for algorithm in algorithms:\n",
        "    # 交差検定法の実行\n",
        "    scores = cross_val_score(algorithm, x_train, y_train, cv=stratifiedkfold)\n",
        "    score = scores.mean()\n",
        "    name = algorithm.__class__.__name__\n",
        "    print(f'平均スコア: {score:.4f} 個別スコア: {scores} {name}')"
      ],
      "metadata": {
        "colab": {
          "base_uri": "https://localhost:8080/"
        },
        "id": "4ocr7m0VAb5H",
        "outputId": "cc8ff7ad-67c9-4e83-e405-0cc5604faa7e"
      },
      "execution_count": 12,
      "outputs": [
        {
          "output_type": "stream",
          "name": "stdout",
          "text": [
            "平均スコア: 0.9473 個別スコア: [0.9415 0.9474 0.9529] LogisticRegression\n",
            "平均スコア: 0.9141 個別スコア: [0.8889 0.9181 0.9353] SVC\n",
            "平均スコア: 0.9062 個別スコア: [0.8713 0.9415 0.9059] DecisionTreeClassifier\n",
            "平均スコア: 0.9629 個別スコア: [0.9649 0.9591 0.9647] RandomForestClassifier\n",
            "平均スコア: 0.9570 個別スコア: [0.9474 0.9649 0.9588] XGBClassifier\n"
          ]
        }
      ]
    },
    {
      "cell_type": "markdown",
      "source": [
        "## 4.5.4 グリッドサーチ"
      ],
      "metadata": {
        "id": "PSa-9UepVnnE"
      }
    },
    {
      "cell_type": "code",
      "source": [
        "# グリッドサーチに交差検定を組み合わせて最適なパラメータを探索\n",
        "params = {\n",
        "    'C': [1, 10, 100, 1000, 10000],\n",
        "    'gamma': [1, 0.1, 0.02, 0.002, 0.0001, 0.00001]\n",
        "}\n",
        "algorithm = SVC(random_state=random_seed)\n",
        "\n",
        "from sklearn.model_selection import StratifiedKFold\n",
        "stratifiedkfold = StratifiedKFold(n_splits=3)\n",
        "\n",
        "from sklearn.model_selection import GridSearchCV\n",
        "gs = GridSearchCV(algorithm, params, cv=stratifiedkfold)\n",
        "gs.fit(x_train, y_train)\n",
        "\n",
        "# ベストのモデルを取得し検証データを分類\n",
        "best = gs.best_estimator_\n",
        "best_pred = best.predict(x_test)\n",
        "print(best)"
      ],
      "metadata": {
        "id": "-WDnQmgGBOBf",
        "colab": {
          "base_uri": "https://localhost:8080/"
        },
        "outputId": "89710618-8417-49e7-dc5b-0b7725b3b77c"
      },
      "execution_count": 13,
      "outputs": [
        {
          "output_type": "stream",
          "name": "stdout",
          "text": [
            "SVC(C=1000, gamma=1e-05, random_state=123)\n"
          ]
        }
      ]
    },
    {
      "cell_type": "code",
      "source": [
        "# 精度の取得\n",
        "score = best.score(x_test, y_test)\n",
        "print(f'スコア: {score:.4f}')\n",
        "\n",
        "# 混同行列\n",
        "from sklearn.metrics import confusion_matrix\n",
        "print()\n",
        "print('混同行列')\n",
        "print(confusion_matrix(y_test, best_pred))"
      ],
      "metadata": {
        "colab": {
          "base_uri": "https://localhost:8080/"
        },
        "id": "CLthhR22W5mV",
        "outputId": "49aeb4fe-e342-4fc1-e49b-2aa0e8a2c5c9"
      },
      "execution_count": 15,
      "outputs": [
        {
          "output_type": "stream",
          "name": "stdout",
          "text": [
            "スコア: 0.9825\n",
            "\n",
            "混同行列\n",
            "[[20  1]\n",
            " [ 0 36]]\n"
          ]
        }
      ]
    },
    {
      "cell_type": "code",
      "source": [],
      "metadata": {
        "id": "-cwTEspdXtGC"
      },
      "execution_count": null,
      "outputs": []
    }
  ]
}