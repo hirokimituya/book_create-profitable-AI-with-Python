{
  "nbformat": 4,
  "nbformat_minor": 0,
  "metadata": {
    "colab": {
      "provenance": [],
      "authorship_tag": "ABX9TyOowF9tVupn2CHxtgp19cH6",
      "include_colab_link": true
    },
    "kernelspec": {
      "name": "python3",
      "display_name": "Python 3"
    },
    "language_info": {
      "name": "python"
    }
  },
  "cells": [
    {
      "cell_type": "markdown",
      "metadata": {
        "id": "view-in-github",
        "colab_type": "text"
      },
      "source": [
        "<a href=\"https://colab.research.google.com/github/hirokimituya/book_create-profitable-AI-with-Python/blob/main/l2_01_numpy.ipynb\" target=\"_parent\"><img src=\"https://colab.research.google.com/assets/colab-badge.svg\" alt=\"Open In Colab\"/></a>"
      ]
    },
    {
      "cell_type": "code",
      "execution_count": 1,
      "metadata": {
        "id": "04DFmgcbJSFa"
      },
      "outputs": [],
      "source": [
        "# ライブラリのインポート\n",
        "import numpy as np\n",
        "\n",
        "# numpyの浮動小数点の表示精度\n",
        "np.set_printoptions(suppress=True, precision=4)"
      ]
    },
    {
      "cell_type": "code",
      "source": [
        "# NumPyデータ定義\n",
        "\n",
        "# 1次元配列変数の定義\n",
        "a = np.array([1, 2, 3, 4, 5 , 6, 7])\n",
        "\n",
        "# 2次元配列変数の定義\n",
        "b = np.array([[1, 2, 3], [4, 5, 6], [7, 8, 9], [10, 11, 12]])"
      ],
      "metadata": {
        "id": "ZlO755GjKgHW"
      },
      "execution_count": 2,
      "outputs": []
    },
    {
      "cell_type": "code",
      "source": [
        "# 1次元配列変数の表示\n",
        "print(a)\n",
        "\n",
        "# 2次元配列変数の表示\n",
        "print(b)"
      ],
      "metadata": {
        "colab": {
          "base_uri": "https://localhost:8080/"
        },
        "id": "NTDyRctDK-hm",
        "outputId": "c84f09ff-a9e0-4df2-ddcb-39204e0d5236"
      },
      "execution_count": 3,
      "outputs": [
        {
          "output_type": "stream",
          "name": "stdout",
          "text": [
            "[1 2 3 4 5 6 7]\n",
            "[[ 1  2  3]\n",
            " [ 4  5  6]\n",
            " [ 7  8  9]\n",
            " [10 11 12]]\n"
          ]
        }
      ]
    },
    {
      "cell_type": "code",
      "source": [
        "# 要素数の確認\n",
        "\n",
        "# 1次元配列変数の表示\n",
        "print(a.shape)\n",
        "\n",
        "# 2次元配列変数の表示\n",
        "print(b.shape)\n",
        "\n",
        "# len関数の利用\n",
        "print(len(a))\n",
        "print(len(b))"
      ],
      "metadata": {
        "colab": {
          "base_uri": "https://localhost:8080/"
        },
        "id": "b0A7fUQELPdP",
        "outputId": "ec70c571-d764-447f-e29b-4452eab5716a"
      },
      "execution_count": 5,
      "outputs": [
        {
          "output_type": "stream",
          "name": "stdout",
          "text": [
            "(7,)\n",
            "(4, 3)\n",
            "7\n",
            "4\n"
          ]
        }
      ]
    },
    {
      "cell_type": "code",
      "source": [
        "# 特定列の抽出\n",
        "\n",
        "# 0列\n",
        "c = b[:, 0]\n",
        "print(c)\n",
        "\n",
        "#[0,1]列\n",
        "d = b[:, :2]\n",
        "print(d)"
      ],
      "metadata": {
        "colab": {
          "base_uri": "https://localhost:8080/"
        },
        "id": "_31GH7k1LlMJ",
        "outputId": "11230316-e746-497d-e987-fd882681a49d"
      },
      "execution_count": 6,
      "outputs": [
        {
          "output_type": "stream",
          "name": "stdout",
          "text": [
            "[ 1  4  7 10]\n",
            "[[ 1  2]\n",
            " [ 4  5]\n",
            " [ 7  8]\n",
            " [10 11]]\n"
          ]
        }
      ]
    },
    {
      "cell_type": "code",
      "source": [
        "# reshape関数\n",
        "l = np.array(range(12))\n",
        "print(l)\n",
        "\n",
        "# 3行4列に変換\n",
        "m = l.reshape((3, 4))\n",
        "print(m)"
      ],
      "metadata": {
        "colab": {
          "base_uri": "https://localhost:8080/"
        },
        "id": "AIiKBT_OMZ8J",
        "outputId": "a698265d-db2f-444f-f88e-77e14215905a"
      },
      "execution_count": 7,
      "outputs": [
        {
          "output_type": "stream",
          "name": "stdout",
          "text": [
            "[ 0  1  2  3  4  5  6  7  8  9 10 11]\n",
            "[[ 0  1  2  3]\n",
            " [ 4  5  6  7]\n",
            " [ 8  9 10 11]]\n"
          ]
        }
      ]
    },
    {
      "cell_type": "code",
      "source": [
        "# 統計関数\n",
        "print(f'元の変数:　　{a}')\n",
        "\n",
        "a_sum = np.sum(a)\n",
        "print(f'和: {a_sum}')\n",
        "\n",
        "a_mean = np.mean(a)\n",
        "print(f'平均: {a_mean}')\n",
        "\n",
        "a_max = np.max(a)\n",
        "print(f'最大値: {a_max}')\n",
        "\n",
        "a_min = a.min()\n",
        "print(f'最小値: {a_min}')"
      ],
      "metadata": {
        "colab": {
          "base_uri": "https://localhost:8080/"
        },
        "id": "XiZis3n7NJQM",
        "outputId": "51bb7149-8fa1-4fcc-b854-690ba9294f2b"
      },
      "execution_count": 13,
      "outputs": [
        {
          "output_type": "stream",
          "name": "stdout",
          "text": [
            "元の変数:　　[1 2 3 4 5 6 7]\n",
            "和: 28\n",
            "平均: 4.0\n",
            "最大値: 7\n",
            "最小値: 1\n"
          ]
        }
      ]
    },
    {
      "cell_type": "code",
      "source": [
        "# 二つのNumPy配列 yt と yp　の準備\n",
        "yt = np.array([1, 1, 0, 1, 0, 1, 1, 0, 1, 1])\n",
        "yp = np.array([1, 1, 0, 1, 0, 1, 1, 1 ,1, 1])\n",
        "print(yt)\n",
        "print(yp)"
      ],
      "metadata": {
        "colab": {
          "base_uri": "https://localhost:8080/"
        },
        "id": "aStm6q9rNn1P",
        "outputId": "111cb445-907e-48c9-9d34-287cbe5412bc"
      },
      "execution_count": 15,
      "outputs": [
        {
          "output_type": "stream",
          "name": "stdout",
          "text": [
            "[1 1 0 1 0 1 1 0 1 1]\n",
            "[1 1 0 1 0 1 1 1 1 1]\n"
          ]
        }
      ]
    },
    {
      "cell_type": "code",
      "source": [
        "# 配列の各要素を同時に比較する\n",
        "w = (yt == yp)\n",
        "print(w)"
      ],
      "metadata": {
        "colab": {
          "base_uri": "https://localhost:8080/"
        },
        "id": "VFzkvft9O0Xr",
        "outputId": "70beaf4c-5eb3-4f56-afa5-f787475e2618"
      },
      "execution_count": 16,
      "outputs": [
        {
          "output_type": "stream",
          "name": "stdout",
          "text": [
            "[ True  True  True  True  True  True  True False  True  True]\n"
          ]
        }
      ]
    },
    {
      "cell_type": "code",
      "source": [
        "# さらにこの結果にsum関数をかける\n",
        "print(w.sum())"
      ],
      "metadata": {
        "colab": {
          "base_uri": "https://localhost:8080/"
        },
        "id": "c3TuH9FCPJol",
        "outputId": "952ac36c-bb13-4286-f65c-9528c1a8ec6a"
      },
      "execution_count": 17,
      "outputs": [
        {
          "output_type": "stream",
          "name": "stdout",
          "text": [
            "9\n"
          ]
        }
      ]
    },
    {
      "cell_type": "code",
      "source": [
        "# ブロードキャスト機能\n",
        "print(a)\n",
        "c = (a - np.min(a)) / (np.max(a) - np.min(a))\n",
        "print(c)"
      ],
      "metadata": {
        "colab": {
          "base_uri": "https://localhost:8080/"
        },
        "id": "IWeGRR5yPoz7",
        "outputId": "128e2b34-54a3-48e3-edf7-46e152903cac"
      },
      "execution_count": 20,
      "outputs": [
        {
          "output_type": "stream",
          "name": "stdout",
          "text": [
            "[1 2 3 4 5 6 7]\n",
            "[0.     0.1667 0.3333 0.5    0.6667 0.8333 1.    ]\n"
          ]
        }
      ]
    },
    {
      "cell_type": "code",
      "source": [
        "x = np.linspace(-5, 5, 11)\n",
        "print(x)"
      ],
      "metadata": {
        "colab": {
          "base_uri": "https://localhost:8080/"
        },
        "id": "jf-gAmK1QCy1",
        "outputId": "8c96661a-4d52-4190-e0d8-7ecaa58e8395"
      },
      "execution_count": 21,
      "outputs": [
        {
          "output_type": "stream",
          "name": "stdout",
          "text": [
            "[-5. -4. -3. -2. -1.  0.  1.  2.  3.  4.  5.]\n"
          ]
        }
      ]
    },
    {
      "cell_type": "code",
      "source": [],
      "metadata": {
        "id": "92WaSxLzQq3r"
      },
      "execution_count": null,
      "outputs": []
    }
  ]
}