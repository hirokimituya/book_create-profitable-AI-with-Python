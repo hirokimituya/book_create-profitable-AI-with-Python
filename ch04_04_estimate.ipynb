{
  "nbformat": 4,
  "nbformat_minor": 0,
  "metadata": {
    "colab": {
      "provenance": [],
      "authorship_tag": "ABX9TyMQf2Ob4hlIqAIa12eh7j7Z",
      "include_colab_link": true
    },
    "kernelspec": {
      "name": "python3",
      "display_name": "Python 3"
    },
    "language_info": {
      "name": "python"
    }
  },
  "cells": [
    {
      "cell_type": "markdown",
      "metadata": {
        "id": "view-in-github",
        "colab_type": "text"
      },
      "source": [
        "<a href=\"https://colab.research.google.com/github/hirokimituya/book_create-profitable-AI-with-Python/blob/main/ch04_04_estimate.ipynb\" target=\"_parent\"><img src=\"https://colab.research.google.com/assets/colab-badge.svg\" alt=\"Open In Colab\"/></a>"
      ]
    },
    {
      "cell_type": "markdown",
      "source": [
        "# 4.4 評価"
      ],
      "metadata": {
        "id": "dXZHoUnHK1Y2"
      }
    },
    {
      "cell_type": "code",
      "source": [
        "# 日本語化ライブラリ導入\n",
        "!pip install japanize-matplotlib | tail -n 1"
      ],
      "metadata": {
        "colab": {
          "base_uri": "https://localhost:8080/"
        },
        "id": "R0YtXfUWNy80",
        "outputId": "786fa52d-b25c-4144-ead0-26b0b1890169"
      },
      "execution_count": 1,
      "outputs": [
        {
          "output_type": "stream",
          "name": "stdout",
          "text": [
            "Successfully installed japanize-matplotlib-1.1.3\n"
          ]
        }
      ]
    },
    {
      "cell_type": "code",
      "source": [
        "# 共通事前処理\n",
        "\n",
        "# 余分なワーニングを非表示にする\n",
        "import warnings\n",
        "warnings.filterwarnings('ignore')\n",
        "\n",
        "# 必要ライブラリのimport\n",
        "import pandas as pd\n",
        "import numpy as np\n",
        "import matplotlib.pyplot as plt\n",
        "\n",
        "# matplotlib日本語化対応\n",
        "import japanize_matplotlib\n",
        "\n",
        "# データフレーム表示用関数\n",
        "from IPython.display import display\n",
        "\n",
        "# 表示オプション調整\n",
        "# numpyの浮動小数点の表示精度\n",
        "np.set_printoptions(suppress=True, precision=4)\n",
        "# pandasでの浮動小数点の表示精度\n",
        "pd.options.display.float_format = '{:.4f}'.format\n",
        "# データフレームですべての項目を表示\n",
        "pd.set_option(\"display.max_columns\",None)\n",
        "# グラフのデフォルトフォント指定\n",
        "plt.rcParams[\"font.size\"] = 14\n",
        "# 乱数の種\n",
        "random_seed = 123"
      ],
      "metadata": {
        "id": "a79awYl8N098"
      },
      "execution_count": 2,
      "outputs": []
    },
    {
      "cell_type": "markdown",
      "source": [
        "## 4.4.1 混同行列"
      ],
      "metadata": {
        "id": "HN6hVdnfLORZ"
      }
    },
    {
      "cell_type": "code",
      "execution_count": 3,
      "metadata": {
        "id": "XshtjK7xKzOY"
      },
      "outputs": [],
      "source": [
        "from pickle import load\n",
        "# データ読み込みからデータ分割まで\n",
        "\n",
        "# ライブラリのimport\n",
        "from sklearn.datasets import load_breast_cancer\n",
        "\n",
        "# データのロード\n",
        "cancer = load_breast_cancer()\n",
        "\n",
        "# 入力データx\n",
        "x = cancer.data\n",
        "\n",
        "# 正解データy\n",
        "# 良性: 0 悪性: 1に値を変換する\n",
        "y = 1 - cancer.target\n",
        "\n",
        "# 入力データを2次元に絞り込み\n",
        "x2 = x[:, :2]\n",
        "\n",
        "# (4)データ分割\n",
        "from sklearn.model_selection import train_test_split\n",
        "x_train, x_test, y_train, y_test = train_test_split(x2, y, train_size=0.7, test_size=0.3,\n",
        "                                                    random_state=random_seed)"
      ]
    },
    {
      "cell_type": "code",
      "source": [
        "# アルゴリズム選択から評価まで\n",
        "\n",
        "# アルゴリズム選択（ロジスティック回帰）\n",
        "from sklearn.linear_model import LogisticRegression\n",
        "algorithm = LogisticRegression(random_state=random_seed)\n",
        "\n",
        "# 学習\n",
        "algorithm.fit(x_train, y_train)\n",
        "\n",
        "# 予測\n",
        "y_pred = algorithm.predict(x_test)\n",
        "\n",
        "# 評価\n",
        "score = algorithm.score(x_test, y_test)\n",
        "\n",
        "# 結果確認\n",
        "print(f'score: {score:.4f}')"
      ],
      "metadata": {
        "colab": {
          "base_uri": "https://localhost:8080/"
        },
        "id": "A-aIN-RBOrAY",
        "outputId": "a18a97ef-e889-410e-afbd-be691744973f"
      },
      "execution_count": 4,
      "outputs": [
        {
          "output_type": "stream",
          "name": "stdout",
          "text": [
            "score: 0.8772\n"
          ]
        }
      ]
    },
    {
      "cell_type": "code",
      "source": [
        "# 混同行列の計算\n",
        "\n",
        "# 必要なライブラリの取り込み\n",
        "from sklearn.metrics import confusion_matrix\n",
        "\n",
        "# 混同行列の生成\n",
        "# y_test: 検証データの正解データ\n",
        "# y_pred: 検証データの予測結果\n",
        "matrix = confusion_matrix(y_test, y_pred)\n",
        "\n",
        "# 結果確認\n",
        "print(matrix)"
      ],
      "metadata": {
        "colab": {
          "base_uri": "https://localhost:8080/"
        },
        "id": "6TFwV6K7PmYD",
        "outputId": "25a91f67-6669-47d3-e6ac-e7691d29cad9"
      },
      "execution_count": 5,
      "outputs": [
        {
          "output_type": "stream",
          "name": "stdout",
          "text": [
            "[[101   2]\n",
            " [ 19  49]]\n"
          ]
        }
      ]
    },
    {
      "cell_type": "code",
      "source": [
        "# 混同行列表示用関数\n",
        "\n",
        "def make_cm(matrix, columns):\n",
        "    # matrix numpy配列\n",
        "\n",
        "    # columns項目名リスト\n",
        "    n = len(columns)\n",
        "\n",
        "    # '正解データ'をn回繰り返すリスト生成\n",
        "    act = ['正解データ'] * n\n",
        "    pred = ['予測結果'] * n\n",
        "\n",
        "    # データフレーム生成\n",
        "    cm = pd.DataFrame(matrix, columns=[pred, columns], index=[act, columns])\n",
        "    \n",
        "    return cm"
      ],
      "metadata": {
        "id": "mYDwyUVYQP0h"
      },
      "execution_count": 6,
      "outputs": []
    },
    {
      "cell_type": "code",
      "source": [
        "# make_cmを使った混同行列の表示\n",
        "cm = make_cm(matrix, ['良性', '悪性'])\n",
        "display(cm)"
      ],
      "metadata": {
        "colab": {
          "base_uri": "https://localhost:8080/",
          "height": 143
        },
        "id": "4wVnLQnnRBXv",
        "outputId": "27b60fb9-a9f5-477c-aa37-e22313e0dbfc"
      },
      "execution_count": 7,
      "outputs": [
        {
          "output_type": "display_data",
          "data": {
            "text/plain": [
              "         予測結果    \n",
              "           良性  悪性\n",
              "正解データ 良性  101   2\n",
              "      悪性   19  49"
            ],
            "text/html": [
              "\n",
              "  <div id=\"df-b5d9f6ea-56d9-4ecb-a3cf-8c1c085b58e7\">\n",
              "    <div class=\"colab-df-container\">\n",
              "      <div>\n",
              "<style scoped>\n",
              "    .dataframe tbody tr th:only-of-type {\n",
              "        vertical-align: middle;\n",
              "    }\n",
              "\n",
              "    .dataframe tbody tr th {\n",
              "        vertical-align: top;\n",
              "    }\n",
              "\n",
              "    .dataframe thead tr th {\n",
              "        text-align: left;\n",
              "    }\n",
              "</style>\n",
              "<table border=\"1\" class=\"dataframe\">\n",
              "  <thead>\n",
              "    <tr>\n",
              "      <th></th>\n",
              "      <th></th>\n",
              "      <th colspan=\"2\" halign=\"left\">予測結果</th>\n",
              "    </tr>\n",
              "    <tr>\n",
              "      <th></th>\n",
              "      <th></th>\n",
              "      <th>良性</th>\n",
              "      <th>悪性</th>\n",
              "    </tr>\n",
              "  </thead>\n",
              "  <tbody>\n",
              "    <tr>\n",
              "      <th rowspan=\"2\" valign=\"top\">正解データ</th>\n",
              "      <th>良性</th>\n",
              "      <td>101</td>\n",
              "      <td>2</td>\n",
              "    </tr>\n",
              "    <tr>\n",
              "      <th>悪性</th>\n",
              "      <td>19</td>\n",
              "      <td>49</td>\n",
              "    </tr>\n",
              "  </tbody>\n",
              "</table>\n",
              "</div>\n",
              "      <button class=\"colab-df-convert\" onclick=\"convertToInteractive('df-b5d9f6ea-56d9-4ecb-a3cf-8c1c085b58e7')\"\n",
              "              title=\"Convert this dataframe to an interactive table.\"\n",
              "              style=\"display:none;\">\n",
              "        \n",
              "  <svg xmlns=\"http://www.w3.org/2000/svg\" height=\"24px\"viewBox=\"0 0 24 24\"\n",
              "       width=\"24px\">\n",
              "    <path d=\"M0 0h24v24H0V0z\" fill=\"none\"/>\n",
              "    <path d=\"M18.56 5.44l.94 2.06.94-2.06 2.06-.94-2.06-.94-.94-2.06-.94 2.06-2.06.94zm-11 1L8.5 8.5l.94-2.06 2.06-.94-2.06-.94L8.5 2.5l-.94 2.06-2.06.94zm10 10l.94 2.06.94-2.06 2.06-.94-2.06-.94-.94-2.06-.94 2.06-2.06.94z\"/><path d=\"M17.41 7.96l-1.37-1.37c-.4-.4-.92-.59-1.43-.59-.52 0-1.04.2-1.43.59L10.3 9.45l-7.72 7.72c-.78.78-.78 2.05 0 2.83L4 21.41c.39.39.9.59 1.41.59.51 0 1.02-.2 1.41-.59l7.78-7.78 2.81-2.81c.8-.78.8-2.07 0-2.86zM5.41 20L4 18.59l7.72-7.72 1.47 1.35L5.41 20z\"/>\n",
              "  </svg>\n",
              "      </button>\n",
              "      \n",
              "  <style>\n",
              "    .colab-df-container {\n",
              "      display:flex;\n",
              "      flex-wrap:wrap;\n",
              "      gap: 12px;\n",
              "    }\n",
              "\n",
              "    .colab-df-convert {\n",
              "      background-color: #E8F0FE;\n",
              "      border: none;\n",
              "      border-radius: 50%;\n",
              "      cursor: pointer;\n",
              "      display: none;\n",
              "      fill: #1967D2;\n",
              "      height: 32px;\n",
              "      padding: 0 0 0 0;\n",
              "      width: 32px;\n",
              "    }\n",
              "\n",
              "    .colab-df-convert:hover {\n",
              "      background-color: #E2EBFA;\n",
              "      box-shadow: 0px 1px 2px rgba(60, 64, 67, 0.3), 0px 1px 3px 1px rgba(60, 64, 67, 0.15);\n",
              "      fill: #174EA6;\n",
              "    }\n",
              "\n",
              "    [theme=dark] .colab-df-convert {\n",
              "      background-color: #3B4455;\n",
              "      fill: #D2E3FC;\n",
              "    }\n",
              "\n",
              "    [theme=dark] .colab-df-convert:hover {\n",
              "      background-color: #434B5C;\n",
              "      box-shadow: 0px 1px 3px 1px rgba(0, 0, 0, 0.15);\n",
              "      filter: drop-shadow(0px 1px 2px rgba(0, 0, 0, 0.3));\n",
              "      fill: #FFFFFF;\n",
              "    }\n",
              "  </style>\n",
              "\n",
              "      <script>\n",
              "        const buttonEl =\n",
              "          document.querySelector('#df-b5d9f6ea-56d9-4ecb-a3cf-8c1c085b58e7 button.colab-df-convert');\n",
              "        buttonEl.style.display =\n",
              "          google.colab.kernel.accessAllowed ? 'block' : 'none';\n",
              "\n",
              "        async function convertToInteractive(key) {\n",
              "          const element = document.querySelector('#df-b5d9f6ea-56d9-4ecb-a3cf-8c1c085b58e7');\n",
              "          const dataTable =\n",
              "            await google.colab.kernel.invokeFunction('convertToInteractive',\n",
              "                                                     [key], {});\n",
              "          if (!dataTable) return;\n",
              "\n",
              "          const docLinkHtml = 'Like what you see? Visit the ' +\n",
              "            '<a target=\"_blank\" href=https://colab.research.google.com/notebooks/data_table.ipynb>data table notebook</a>'\n",
              "            + ' to learn more about interactive tables.';\n",
              "          element.innerHTML = '';\n",
              "          dataTable['output_type'] = 'display_data';\n",
              "          await google.colab.output.renderOutput(dataTable, element);\n",
              "          const docLink = document.createElement('div');\n",
              "          docLink.innerHTML = docLinkHtml;\n",
              "          element.appendChild(docLink);\n",
              "        }\n",
              "      </script>\n",
              "    </div>\n",
              "  </div>\n",
              "  "
            ]
          },
          "metadata": {}
        }
      ]
    },
    {
      "cell_type": "markdown",
      "source": [
        "## 4.4.2 精度・適合率・再現率・F値"
      ],
      "metadata": {
        "id": "vxYhFomPRpUY"
      }
    },
    {
      "cell_type": "markdown",
      "source": [
        "\n",
        "\n",
        "* 精度（Accuracy） ... 「正解数」を「全体件数」で割った比率 (TP + TN) / (TP + FP + FN + TN)\n",
        "* 適合率（Precision） ... モデルが「陽性」と予測した対象のうち、本当に「陽性」だった割合 TP / (TP + FP)\n",
        "* 再現率（Recall） ... 本当に「陽性」だったデータのうち、どの程度をモデルで「陽性」と検知できたか TP / (TP + FN)\n",
        "* F値（F-score） ... 適合率と再現率の調和平均 2 * (適合率) * (再現率) / ((適合率) + (再現率))\n",
        "\n",
        "\n"
      ],
      "metadata": {
        "id": "z8HVJaKNZmyG"
      }
    },
    {
      "cell_type": "code",
      "source": [
        "# 適合率・再現率・F値の計算\n",
        "\n",
        "# ライブラリの取り込み\n",
        "from sklearn.metrics import precision_recall_fscore_support\n",
        "\n",
        "# 適合率・再現率・F値の計算\n",
        "precision, recall, fscore, _ = precision_recall_fscore_support(\n",
        "    y_test, y_pred, average='binary')\n",
        "\n",
        "# 結果の確認\n",
        "print(f'適合率: {precision:.4f}')\n",
        "print(f'再現率: {recall:.4f}')\n",
        "print(f'F値: {fscore:.4f}')"
      ],
      "metadata": {
        "id": "CDe9VLanRWE8",
        "colab": {
          "base_uri": "https://localhost:8080/"
        },
        "outputId": "09d67af5-e3a2-498d-ff1d-9f36a9994789"
      },
      "execution_count": 8,
      "outputs": [
        {
          "output_type": "stream",
          "name": "stdout",
          "text": [
            "適合率: 0.9608\n",
            "再現率: 0.7206\n",
            "F値: 0.8235\n"
          ]
        }
      ]
    },
    {
      "cell_type": "markdown",
      "source": [
        "## 4.4.3 確率値と閾値"
      ],
      "metadata": {
        "id": "jf_bRNNQgbRy"
      }
    },
    {
      "cell_type": "code",
      "source": [
        "# 確率値の取得\n",
        "y_proba = algorithm.predict_proba(x_test)\n",
        "print(y_proba[10:20, :])"
      ],
      "metadata": {
        "colab": {
          "base_uri": "https://localhost:8080/"
        },
        "id": "HKhc3x0Ue6sa",
        "outputId": "e0e1f087-b69f-4cfb-9b3d-6c09ab0e1dfe"
      },
      "execution_count": 9,
      "outputs": [
        {
          "output_type": "stream",
          "name": "stdout",
          "text": [
            "[[0.7889 0.2111]\n",
            " [0.0812 0.9188]\n",
            " [0.8383 0.1617]\n",
            " [0.9391 0.0609]\n",
            " [0.369  0.631 ]\n",
            " [0.9451 0.0549]\n",
            " [0.9399 0.0601]\n",
            " [0.9494 0.0506]\n",
            " [0.9617 0.0383]\n",
            " [0.9836 0.0164]]\n"
          ]
        }
      ]
    },
    {
      "cell_type": "code",
      "source": [
        "# positive(1)の確率値の取得\n",
        "y_proba1 = y_proba[:, 1]\n",
        "\n",
        "# 結果確認\n",
        "print(y_test[10:20])\n",
        "print(y_pred[10:20])\n",
        "print(y_proba1[10:20])"
      ],
      "metadata": {
        "colab": {
          "base_uri": "https://localhost:8080/"
        },
        "id": "NQyFZRIeismo",
        "outputId": "96c71743-eed0-49e1-e977-0ff1c4d28cad"
      },
      "execution_count": 16,
      "outputs": [
        {
          "output_type": "stream",
          "name": "stdout",
          "text": [
            "[0 1 1 0 1 0 0 0 0 0]\n",
            "[0 1 0 0 1 0 0 0 0 0]\n",
            "[0.2111 0.9188 0.1617 0.0609 0.631  0.0549 0.0601 0.0506 0.0383 0.0164]\n"
          ]
        }
      ]
    },
    {
      "cell_type": "code",
      "source": [
        "# 閾値を変化させる\n",
        "thres = 0.5\n",
        "print((y_proba1[10:20] > thres).astype(int))\n",
        "\n",
        "thres = 0.7\n",
        "print((y_proba1[10:20] > thres).astype(int))"
      ],
      "metadata": {
        "colab": {
          "base_uri": "https://localhost:8080/"
        },
        "id": "5Pqd4Lugjj8a",
        "outputId": "18bd394f-427c-4f4a-b5bf-82ab6c6cd7c5"
      },
      "execution_count": 11,
      "outputs": [
        {
          "output_type": "stream",
          "name": "stdout",
          "text": [
            "[0 1 0 0 1 0 0 0 0 0]\n",
            "[0 1 0 0 0 0 0 0 0 0]\n"
          ]
        }
      ]
    },
    {
      "cell_type": "code",
      "source": [
        "# 閾値を変更した場合の予測関数の定義\n",
        "def pred(algorithm, x, thres):\n",
        "    # 確率値の取得（行列）\n",
        "    y_proba = algorithm.predict_proba(x)\n",
        "\n",
        "    # 予測結果1の確率値\n",
        "    y_proba1 = y_proba[:,1]\n",
        "\n",
        "    # 予測結果1の確率 > 閾値\n",
        "    y_pred = (y_proba1 > thres).astype(int)\n",
        "    return y_pred"
      ],
      "metadata": {
        "id": "c9mMgwzHkpDZ"
      },
      "execution_count": 12,
      "outputs": []
    },
    {
      "cell_type": "code",
      "source": [
        "# 閾値0.5で予測結果取得\n",
        "pred_05 = pred(algorithm, x_test, 0.5)\n",
        "\n",
        "# 閾値0.7で予測結果取得\n",
        "pred_07 = pred(algorithm, x_test, 0.7)\n",
        "\n",
        "# 結果確認\n",
        "print(pred_05[10:20])\n",
        "print(pred_07[10:20])"
      ],
      "metadata": {
        "colab": {
          "base_uri": "https://localhost:8080/"
        },
        "id": "PyIlXpFJlyoO",
        "outputId": "c3ed14a0-2413-4e67-f34e-305f23dd42da"
      },
      "execution_count": 13,
      "outputs": [
        {
          "output_type": "stream",
          "name": "stdout",
          "text": [
            "[0 1 0 0 1 0 0 0 0 0]\n",
            "[0 1 0 0 0 0 0 0 0 0]\n"
          ]
        }
      ]
    },
    {
      "cell_type": "markdown",
      "source": [
        "## 4.4.4 PR曲線とROC曲線"
      ],
      "metadata": {
        "id": "bjbQxn_ymw47"
      }
    },
    {
      "cell_type": "code",
      "source": [
        "# ライブラリの導入\n",
        "from sklearn.metrics import precision_recall_curve\n",
        "# 適合率, 再現率、閾値の取得\n",
        "precision, recall, thresholds = precision_recall_curve(\n",
        "    y_test, y_proba1)\n",
        "# 結果をデータフレームにする\n",
        "df_pr = pd.DataFrame([thresholds, precision, recall]).T\n",
        "df_pr.columns = ['閾値', '適合率', '再現率']\n",
        "# 閾値 0.5の周辺を表示\n",
        "display(df_pr[52:122:10])"
      ],
      "metadata": {
        "id": "2XMn4rOJmHmS",
        "colab": {
          "base_uri": "https://localhost:8080/",
          "height": 269
        },
        "outputId": "e1c3d335-662b-4779-e156-85a78d30409f"
      },
      "execution_count": 23,
      "outputs": [
        {
          "output_type": "display_data",
          "data": {
            "text/plain": [
              "        閾値    適合率    再現率\n",
              "52  0.0322 0.5462 0.9559\n",
              "62  0.0491 0.5963 0.9559\n",
              "72  0.0601 0.6465 0.9412\n",
              "82  0.0987 0.7191 0.9412\n",
              "92  0.1602 0.8101 0.9412\n",
              "102 0.2170 0.8551 0.8676\n",
              "112 0.3624 0.9492 0.8235"
            ],
            "text/html": [
              "\n",
              "  <div id=\"df-c500f9ba-6485-4358-8af0-caebd4324937\">\n",
              "    <div class=\"colab-df-container\">\n",
              "      <div>\n",
              "<style scoped>\n",
              "    .dataframe tbody tr th:only-of-type {\n",
              "        vertical-align: middle;\n",
              "    }\n",
              "\n",
              "    .dataframe tbody tr th {\n",
              "        vertical-align: top;\n",
              "    }\n",
              "\n",
              "    .dataframe thead th {\n",
              "        text-align: right;\n",
              "    }\n",
              "</style>\n",
              "<table border=\"1\" class=\"dataframe\">\n",
              "  <thead>\n",
              "    <tr style=\"text-align: right;\">\n",
              "      <th></th>\n",
              "      <th>閾値</th>\n",
              "      <th>適合率</th>\n",
              "      <th>再現率</th>\n",
              "    </tr>\n",
              "  </thead>\n",
              "  <tbody>\n",
              "    <tr>\n",
              "      <th>52</th>\n",
              "      <td>0.0322</td>\n",
              "      <td>0.5462</td>\n",
              "      <td>0.9559</td>\n",
              "    </tr>\n",
              "    <tr>\n",
              "      <th>62</th>\n",
              "      <td>0.0491</td>\n",
              "      <td>0.5963</td>\n",
              "      <td>0.9559</td>\n",
              "    </tr>\n",
              "    <tr>\n",
              "      <th>72</th>\n",
              "      <td>0.0601</td>\n",
              "      <td>0.6465</td>\n",
              "      <td>0.9412</td>\n",
              "    </tr>\n",
              "    <tr>\n",
              "      <th>82</th>\n",
              "      <td>0.0987</td>\n",
              "      <td>0.7191</td>\n",
              "      <td>0.9412</td>\n",
              "    </tr>\n",
              "    <tr>\n",
              "      <th>92</th>\n",
              "      <td>0.1602</td>\n",
              "      <td>0.8101</td>\n",
              "      <td>0.9412</td>\n",
              "    </tr>\n",
              "    <tr>\n",
              "      <th>102</th>\n",
              "      <td>0.2170</td>\n",
              "      <td>0.8551</td>\n",
              "      <td>0.8676</td>\n",
              "    </tr>\n",
              "    <tr>\n",
              "      <th>112</th>\n",
              "      <td>0.3624</td>\n",
              "      <td>0.9492</td>\n",
              "      <td>0.8235</td>\n",
              "    </tr>\n",
              "  </tbody>\n",
              "</table>\n",
              "</div>\n",
              "      <button class=\"colab-df-convert\" onclick=\"convertToInteractive('df-c500f9ba-6485-4358-8af0-caebd4324937')\"\n",
              "              title=\"Convert this dataframe to an interactive table.\"\n",
              "              style=\"display:none;\">\n",
              "        \n",
              "  <svg xmlns=\"http://www.w3.org/2000/svg\" height=\"24px\"viewBox=\"0 0 24 24\"\n",
              "       width=\"24px\">\n",
              "    <path d=\"M0 0h24v24H0V0z\" fill=\"none\"/>\n",
              "    <path d=\"M18.56 5.44l.94 2.06.94-2.06 2.06-.94-2.06-.94-.94-2.06-.94 2.06-2.06.94zm-11 1L8.5 8.5l.94-2.06 2.06-.94-2.06-.94L8.5 2.5l-.94 2.06-2.06.94zm10 10l.94 2.06.94-2.06 2.06-.94-2.06-.94-.94-2.06-.94 2.06-2.06.94z\"/><path d=\"M17.41 7.96l-1.37-1.37c-.4-.4-.92-.59-1.43-.59-.52 0-1.04.2-1.43.59L10.3 9.45l-7.72 7.72c-.78.78-.78 2.05 0 2.83L4 21.41c.39.39.9.59 1.41.59.51 0 1.02-.2 1.41-.59l7.78-7.78 2.81-2.81c.8-.78.8-2.07 0-2.86zM5.41 20L4 18.59l7.72-7.72 1.47 1.35L5.41 20z\"/>\n",
              "  </svg>\n",
              "      </button>\n",
              "      \n",
              "  <style>\n",
              "    .colab-df-container {\n",
              "      display:flex;\n",
              "      flex-wrap:wrap;\n",
              "      gap: 12px;\n",
              "    }\n",
              "\n",
              "    .colab-df-convert {\n",
              "      background-color: #E8F0FE;\n",
              "      border: none;\n",
              "      border-radius: 50%;\n",
              "      cursor: pointer;\n",
              "      display: none;\n",
              "      fill: #1967D2;\n",
              "      height: 32px;\n",
              "      padding: 0 0 0 0;\n",
              "      width: 32px;\n",
              "    }\n",
              "\n",
              "    .colab-df-convert:hover {\n",
              "      background-color: #E2EBFA;\n",
              "      box-shadow: 0px 1px 2px rgba(60, 64, 67, 0.3), 0px 1px 3px 1px rgba(60, 64, 67, 0.15);\n",
              "      fill: #174EA6;\n",
              "    }\n",
              "\n",
              "    [theme=dark] .colab-df-convert {\n",
              "      background-color: #3B4455;\n",
              "      fill: #D2E3FC;\n",
              "    }\n",
              "\n",
              "    [theme=dark] .colab-df-convert:hover {\n",
              "      background-color: #434B5C;\n",
              "      box-shadow: 0px 1px 3px 1px rgba(0, 0, 0, 0.15);\n",
              "      filter: drop-shadow(0px 1px 2px rgba(0, 0, 0, 0.3));\n",
              "      fill: #FFFFFF;\n",
              "    }\n",
              "  </style>\n",
              "\n",
              "      <script>\n",
              "        const buttonEl =\n",
              "          document.querySelector('#df-c500f9ba-6485-4358-8af0-caebd4324937 button.colab-df-convert');\n",
              "        buttonEl.style.display =\n",
              "          google.colab.kernel.accessAllowed ? 'block' : 'none';\n",
              "\n",
              "        async function convertToInteractive(key) {\n",
              "          const element = document.querySelector('#df-c500f9ba-6485-4358-8af0-caebd4324937');\n",
              "          const dataTable =\n",
              "            await google.colab.kernel.invokeFunction('convertToInteractive',\n",
              "                                                     [key], {});\n",
              "          if (!dataTable) return;\n",
              "\n",
              "          const docLinkHtml = 'Like what you see? Visit the ' +\n",
              "            '<a target=\"_blank\" href=https://colab.research.google.com/notebooks/data_table.ipynb>data table notebook</a>'\n",
              "            + ' to learn more about interactive tables.';\n",
              "          element.innerHTML = '';\n",
              "          dataTable['output_type'] = 'display_data';\n",
              "          await google.colab.output.renderOutput(dataTable, element);\n",
              "          const docLink = document.createElement('div');\n",
              "          docLink.innerHTML = docLinkHtml;\n",
              "          element.appendChild(docLink);\n",
              "        }\n",
              "      </script>\n",
              "    </div>\n",
              "  </div>\n",
              "  "
            ]
          },
          "metadata": {}
        }
      ]
    },
    {
      "cell_type": "code",
      "source": [
        "# 描画サイズ指定\n",
        "plt.figure(figsize=(6, 6))\n",
        "# グラフ領域の塗りつぶし\n",
        "plt.fill_between(recall, precision, 0)\n",
        "# x, yの範囲指定\n",
        "plt.xlim([0.0, 1.0])\n",
        "plt.ylim([0.0, 1.0])\n",
        "# ラベル・タイトル表示\n",
        "plt.xlabel('再現率')\n",
        "plt.ylabel('適合率')\n",
        "plt.title('PR曲線')\n",
        "plt.show()"
      ],
      "metadata": {
        "colab": {
          "base_uri": "https://localhost:8080/",
          "height": 413
        },
        "id": "N_qzNMo5KFnE",
        "outputId": "0d4af4ac-5de9-4301-fbe4-60b4010e34e8"
      },
      "execution_count": 24,
      "outputs": [
        {
          "output_type": "display_data",
          "data": {
            "text/plain": [
              "<Figure size 432x432 with 1 Axes>"
            ],
            "image/png": "[encoded data removed]"
          },
          "metadata": {
            "needs_background": "light"
          }
        }
      ]
    },
    {
      "cell_type": "code",
      "source": [
        "# PR曲線下面積の計算\n",
        "from sklearn.metrics import auc\n",
        "pr_auc = auc(recall, precision)\n",
        "print(f'RP曲線下面積: {pr_auc:.4f}')"
      ],
      "metadata": {
        "colab": {
          "base_uri": "https://localhost:8080/"
        },
        "id": "h_Bw49ZQN9Ey",
        "outputId": "95f1f6e9-0014-43de-bc61-c40fbc67d7a1"
      },
      "execution_count": 25,
      "outputs": [
        {
          "output_type": "stream",
          "name": "stdout",
          "text": [
            "RP曲線下面積: 0.9459\n"
          ]
        }
      ]
    },
    {
      "cell_type": "code",
      "source": [
        "# ROC曲線用配列の生成\n",
        "\n",
        "# ライブラリの導入\n",
        "from sklearn.metrics import roc_curve\n",
        "\n",
        "# 偽陽性率、敏感度と閾値の取得\n",
        "fpr, tpr, thresholds = roc_curve(\n",
        "    y_test, y_proba1, drop_intermediate=False\n",
        ")\n",
        "\n",
        "# 結果をデータフレームにする\n",
        "df_roc = pd.DataFrame([thresholds, fpr, tpr]).T\n",
        "df_roc.columns = ['閾値', '偽陽性率', '敏感度']\n",
        "\n",
        "# 閾値0.5の周辺を表示\n",
        "display(df_roc[21:91:10])"
      ],
      "metadata": {
        "colab": {
          "base_uri": "https://localhost:8080/",
          "height": 269
        },
        "id": "xUgmXO0hOcDV",
        "outputId": "fdd3824a-bd7f-4e9e-9447-06b5559dfaa1"
      },
      "execution_count": 26,
      "outputs": [
        {
          "output_type": "display_data",
          "data": {
            "text/plain": [
              "       閾値   偽陽性率    敏感度\n",
              "21 0.9829 0.0000 0.3088\n",
              "31 0.9025 0.0000 0.4559\n",
              "41 0.7763 0.0097 0.5882\n",
              "51 0.5347 0.0194 0.7206\n",
              "61 0.3371 0.0388 0.8382\n",
              "71 0.2027 0.1165 0.8676\n",
              "81 0.1473 0.1650 0.9412"
            ],
            "text/html": [
              "\n",
              "  <div id=\"df-7bff126d-2ad5-427f-8819-b6cf90368ef3\">\n",
              "    <div class=\"colab-df-container\">\n",
              "      <div>\n",
              "<style scoped>\n",
              "    .dataframe tbody tr th:only-of-type {\n",
              "        vertical-align: middle;\n",
              "    }\n",
              "\n",
              "    .dataframe tbody tr th {\n",
              "        vertical-align: top;\n",
              "    }\n",
              "\n",
              "    .dataframe thead th {\n",
              "        text-align: right;\n",
              "    }\n",
              "</style>\n",
              "<table border=\"1\" class=\"dataframe\">\n",
              "  <thead>\n",
              "    <tr style=\"text-align: right;\">\n",
              "      <th></th>\n",
              "      <th>閾値</th>\n",
              "      <th>偽陽性率</th>\n",
              "      <th>敏感度</th>\n",
              "    </tr>\n",
              "  </thead>\n",
              "  <tbody>\n",
              "    <tr>\n",
              "      <th>21</th>\n",
              "      <td>0.9829</td>\n",
              "      <td>0.0000</td>\n",
              "      <td>0.3088</td>\n",
              "    </tr>\n",
              "    <tr>\n",
              "      <th>31</th>\n",
              "      <td>0.9025</td>\n",
              "      <td>0.0000</td>\n",
              "      <td>0.4559</td>\n",
              "    </tr>\n",
              "    <tr>\n",
              "      <th>41</th>\n",
              "      <td>0.7763</td>\n",
              "      <td>0.0097</td>\n",
              "      <td>0.5882</td>\n",
              "    </tr>\n",
              "    <tr>\n",
              "      <th>51</th>\n",
              "      <td>0.5347</td>\n",
              "      <td>0.0194</td>\n",
              "      <td>0.7206</td>\n",
              "    </tr>\n",
              "    <tr>\n",
              "      <th>61</th>\n",
              "      <td>0.3371</td>\n",
              "      <td>0.0388</td>\n",
              "      <td>0.8382</td>\n",
              "    </tr>\n",
              "    <tr>\n",
              "      <th>71</th>\n",
              "      <td>0.2027</td>\n",
              "      <td>0.1165</td>\n",
              "      <td>0.8676</td>\n",
              "    </tr>\n",
              "    <tr>\n",
              "      <th>81</th>\n",
              "      <td>0.1473</td>\n",
              "      <td>0.1650</td>\n",
              "      <td>0.9412</td>\n",
              "    </tr>\n",
              "  </tbody>\n",
              "</table>\n",
              "</div>\n",
              "      <button class=\"colab-df-convert\" onclick=\"convertToInteractive('df-7bff126d-2ad5-427f-8819-b6cf90368ef3')\"\n",
              "              title=\"Convert this dataframe to an interactive table.\"\n",
              "              style=\"display:none;\">\n",
              "        \n",
              "  <svg xmlns=\"http://www.w3.org/2000/svg\" height=\"24px\"viewBox=\"0 0 24 24\"\n",
              "       width=\"24px\">\n",
              "    <path d=\"M0 0h24v24H0V0z\" fill=\"none\"/>\n",
              "    <path d=\"M18.56 5.44l.94 2.06.94-2.06 2.06-.94-2.06-.94-.94-2.06-.94 2.06-2.06.94zm-11 1L8.5 8.5l.94-2.06 2.06-.94-2.06-.94L8.5 2.5l-.94 2.06-2.06.94zm10 10l.94 2.06.94-2.06 2.06-.94-2.06-.94-.94-2.06-.94 2.06-2.06.94z\"/><path d=\"M17.41 7.96l-1.37-1.37c-.4-.4-.92-.59-1.43-.59-.52 0-1.04.2-1.43.59L10.3 9.45l-7.72 7.72c-.78.78-.78 2.05 0 2.83L4 21.41c.39.39.9.59 1.41.59.51 0 1.02-.2 1.41-.59l7.78-7.78 2.81-2.81c.8-.78.8-2.07 0-2.86zM5.41 20L4 18.59l7.72-7.72 1.47 1.35L5.41 20z\"/>\n",
              "  </svg>\n",
              "      </button>\n",
              "      \n",
              "  <style>\n",
              "    .colab-df-container {\n",
              "      display:flex;\n",
              "      flex-wrap:wrap;\n",
              "      gap: 12px;\n",
              "    }\n",
              "\n",
              "    .colab-df-convert {\n",
              "      background-color: #E8F0FE;\n",
              "      border: none;\n",
              "      border-radius: 50%;\n",
              "      cursor: pointer;\n",
              "      display: none;\n",
              "      fill: #1967D2;\n",
              "      height: 32px;\n",
              "      padding: 0 0 0 0;\n",
              "      width: 32px;\n",
              "    }\n",
              "\n",
              "    .colab-df-convert:hover {\n",
              "      background-color: #E2EBFA;\n",
              "      box-shadow: 0px 1px 2px rgba(60, 64, 67, 0.3), 0px 1px 3px 1px rgba(60, 64, 67, 0.15);\n",
              "      fill: #174EA6;\n",
              "    }\n",
              "\n",
              "    [theme=dark] .colab-df-convert {\n",
              "      background-color: #3B4455;\n",
              "      fill: #D2E3FC;\n",
              "    }\n",
              "\n",
              "    [theme=dark] .colab-df-convert:hover {\n",
              "      background-color: #434B5C;\n",
              "      box-shadow: 0px 1px 3px 1px rgba(0, 0, 0, 0.15);\n",
              "      filter: drop-shadow(0px 1px 2px rgba(0, 0, 0, 0.3));\n",
              "      fill: #FFFFFF;\n",
              "    }\n",
              "  </style>\n",
              "\n",
              "      <script>\n",
              "        const buttonEl =\n",
              "          document.querySelector('#df-7bff126d-2ad5-427f-8819-b6cf90368ef3 button.colab-df-convert');\n",
              "        buttonEl.style.display =\n",
              "          google.colab.kernel.accessAllowed ? 'block' : 'none';\n",
              "\n",
              "        async function convertToInteractive(key) {\n",
              "          const element = document.querySelector('#df-7bff126d-2ad5-427f-8819-b6cf90368ef3');\n",
              "          const dataTable =\n",
              "            await google.colab.kernel.invokeFunction('convertToInteractive',\n",
              "                                                     [key], {});\n",
              "          if (!dataTable) return;\n",
              "\n",
              "          const docLinkHtml = 'Like what you see? Visit the ' +\n",
              "            '<a target=\"_blank\" href=https://colab.research.google.com/notebooks/data_table.ipynb>data table notebook</a>'\n",
              "            + ' to learn more about interactive tables.';\n",
              "          element.innerHTML = '';\n",
              "          dataTable['output_type'] = 'display_data';\n",
              "          await google.colab.output.renderOutput(dataTable, element);\n",
              "          const docLink = document.createElement('div');\n",
              "          docLink.innerHTML = docLinkHtml;\n",
              "          element.appendChild(docLink);\n",
              "        }\n",
              "      </script>\n",
              "    </div>\n",
              "  </div>\n",
              "  "
            ]
          },
          "metadata": {}
        }
      ]
    },
    {
      "cell_type": "code",
      "source": [
        "# ROC曲線の描画\n",
        "\n",
        "# 描画サイズ指定\n",
        "plt.figure(figsize=(6, 6))\n",
        "\n",
        "# 点線表示\n",
        "plt.plot([0, 1], [0, 1], 'k--')\n",
        "\n",
        "# グラフ領域の塗りつぶし\n",
        "plt.fill_between(fpr, tpr, 0)\n",
        "\n",
        "# x, yの範囲指定\n",
        "plt.xlim([0.0, 1.0])\n",
        "plt.ylim([0.0, 1.0])\n",
        "\n",
        "# ラベル・タイトル表示\n",
        "plt.xlabel('偽陽性率')\n",
        "plt.ylabel('敏感度')\n",
        "plt.title('ROC曲線')\n",
        "plt.show()"
      ],
      "metadata": {
        "colab": {
          "base_uri": "https://localhost:8080/",
          "height": 413
        },
        "id": "aBvPooVnQc3q",
        "outputId": "448bfb2c-b155-4674-bfc0-3ecd760356e7"
      },
      "execution_count": 29,
      "outputs": [
        {
          "output_type": "display_data",
          "data": {
            "text/plain": [
              "<Figure size 432x432 with 1 Axes>"
            ],
            "image/png": "[encoded data removed]"
          },
          "metadata": {
            "needs_background": "light"
          }
        }
      ]
    },
    {
      "cell_type": "code",
      "source": [
        "# ROC曲線下面積の計算\n",
        "roc_auc = auc(fpr, tpr)\n",
        "print(f'ROC曲線下面積: {roc_auc:.4f}')"
      ],
      "metadata": {
        "colab": {
          "base_uri": "https://localhost:8080/"
        },
        "id": "-ml8FJzlRGpG",
        "outputId": "8a717b9d-7e89-4ac5-99c7-e572ded1cde8"
      },
      "execution_count": 30,
      "outputs": [
        {
          "output_type": "stream",
          "name": "stdout",
          "text": [
            "ROC曲線下面積: 0.9522\n"
          ]
        }
      ]
    },
    {
      "cell_type": "markdown",
      "source": [
        "## 4.4.5 入力項目の重要度"
      ],
      "metadata": {
        "id": "Qo0OAWZfSM5x"
      }
    },
    {
      "cell_type": "code",
      "source": [
        "# ランダムフォレストのモデルを作るまで\n",
        "\n",
        "# サンプルデータの読み込み\n",
        "import seaborn as sns\n",
        "df_iris = sns.load_dataset('iris')\n",
        "columns_i = ['がく片長', 'がく片幅', '花弁長', '花弁幅', '種別']\n",
        "df_iris.columns = columns_i\n",
        "\n",
        "# 入力データx\n",
        "x = df_iris[['がく片長', 'がく片幅', '花弁長', '花弁幅']]\n",
        "\n",
        "# 正解データy\n",
        "y = df_iris['種別']\n",
        "\n",
        "# アルゴリズムの選択（ランダムフォレスト）\n",
        "from sklearn.ensemble import RandomForestClassifier\n",
        "algorithm = RandomForestClassifier(random_state=random_seed)\n",
        "\n",
        "# 学習\n",
        "algorithm.fit(x, y)"
      ],
      "metadata": {
        "colab": {
          "base_uri": "https://localhost:8080/",
          "height": 75
        },
        "id": "47mClJjUR27o",
        "outputId": "10ca65ad-f799-4434-9a54-4817aec5ce28"
      },
      "execution_count": 34,
      "outputs": [
        {
          "output_type": "execute_result",
          "data": {
            "text/plain": [
              "RandomForestClassifier(random_state=123)"
            ],
            "text/html": [
              "<style>#sk-container-id-1 {color: black;background-color: white;}#sk-container-id-1 pre{padding: 0;}#sk-container-id-1 div.sk-toggleable {background-color: white;}#sk-container-id-1 label.sk-toggleable__label {cursor: pointer;display: block;width: 100%;margin-bottom: 0;padding: 0.3em;box-sizing: border-box;text-align: center;}#sk-container-id-1 label.sk-toggleable__label-arrow:before {content: \"▸\";float: left;margin-right: 0.25em;color: #696969;}#sk-container-id-1 label.sk-toggleable__label-arrow:hover:before {color: black;}#sk-container-id-1 div.sk-estimator:hover label.sk-toggleable__label-arrow:before {color: black;}#sk-container-id-1 div.sk-toggleable__content {max-height: 0;max-width: 0;overflow: hidden;text-align: left;background-color: #f0f8ff;}#sk-container-id-1 div.sk-toggleable__content pre {margin: 0.2em;color: black;border-radius: 0.25em;background-color: #f0f8ff;}#sk-container-id-1 input.sk-toggleable__control:checked~div.sk-toggleable__content {max-height: 200px;max-width: 100%;overflow: auto;}#sk-container-id-1 input.sk-toggleable__control:checked~label.sk-toggleable__label-arrow:before {content: \"▾\";}#sk-container-id-1 div.sk-estimator input.sk-toggleable__control:checked~label.sk-toggleable__label {background-color: #d4ebff;}#sk-container-id-1 div.sk-label input.sk-toggleable__control:checked~label.sk-toggleable__label {background-color: #d4ebff;}#sk-container-id-1 input.sk-hidden--visually {border: 0;clip: rect(1px 1px 1px 1px);clip: rect(1px, 1px, 1px, 1px);height: 1px;margin: -1px;overflow: hidden;padding: 0;position: absolute;width: 1px;}#sk-container-id-1 div.sk-estimator {font-family: monospace;background-color: #f0f8ff;border: 1px dotted black;border-radius: 0.25em;box-sizing: border-box;margin-bottom: 0.5em;}#sk-container-id-1 div.sk-estimator:hover {background-color: #d4ebff;}#sk-container-id-1 div.sk-parallel-item::after {content: \"\";width: 100%;border-bottom: 1px solid gray;flex-grow: 1;}#sk-container-id-1 div.sk-label:hover label.sk-toggleable__label {background-color: #d4ebff;}#sk-container-id-1 div.sk-serial::before {content: \"\";position: absolute;border-left: 1px solid gray;box-sizing: border-box;top: 0;bottom: 0;left: 50%;z-index: 0;}#sk-container-id-1 div.sk-serial {display: flex;flex-direction: column;align-items: center;background-color: white;padding-right: 0.2em;padding-left: 0.2em;position: relative;}#sk-container-id-1 div.sk-item {position: relative;z-index: 1;}#sk-container-id-1 div.sk-parallel {display: flex;align-items: stretch;justify-content: center;background-color: white;position: relative;}#sk-container-id-1 div.sk-item::before, #sk-container-id-1 div.sk-parallel-item::before {content: \"\";position: absolute;border-left: 1px solid gray;box-sizing: border-box;top: 0;bottom: 0;left: 50%;z-index: -1;}#sk-container-id-1 div.sk-parallel-item {display: flex;flex-direction: column;z-index: 1;position: relative;background-color: white;}#sk-container-id-1 div.sk-parallel-item:first-child::after {align-self: flex-end;width: 50%;}#sk-container-id-1 div.sk-parallel-item:last-child::after {align-self: flex-start;width: 50%;}#sk-container-id-1 div.sk-parallel-item:only-child::after {width: 0;}#sk-container-id-1 div.sk-dashed-wrapped {border: 1px dashed gray;margin: 0 0.4em 0.5em 0.4em;box-sizing: border-box;padding-bottom: 0.4em;background-color: white;}#sk-container-id-1 div.sk-label label {font-family: monospace;font-weight: bold;display: inline-block;line-height: 1.2em;}#sk-container-id-1 div.sk-label-container {text-align: center;}#sk-container-id-1 div.sk-container {/* jupyter's `normalize.less` sets `[hidden] { display: none; }` but bootstrap.min.css set `[hidden] { display: none !important; }` so we also need the `!important` here to be able to override the default hidden behavior on the sphinx rendered scikit-learn.org. See: https://github.com/scikit-learn/scikit-learn/issues/21755 */display: inline-block !important;position: relative;}#sk-container-id-1 div.sk-text-repr-fallback {display: none;}</style><div id=\"sk-container-id-1\" class=\"sk-top-container\"><div class=\"sk-text-repr-fallback\"><pre>RandomForestClassifier(random_state=123)</pre><b>In a Jupyter environment, please rerun this cell to show the HTML representation or trust the notebook. <br />On GitHub, the HTML representation is unable to render, please try loading this page with nbviewer.org.</b></div><div class=\"sk-container\" hidden><div class=\"sk-item\"><div class=\"sk-estimator sk-toggleable\"><input class=\"sk-toggleable__control sk-hidden--visually\" id=\"sk-estimator-id-1\" type=\"checkbox\" checked><label for=\"sk-estimator-id-1\" class=\"sk-toggleable__label sk-toggleable__label-arrow\">RandomForestClassifier</label><div class=\"sk-toggleable__content\"><pre>RandomForestClassifier(random_state=123)</pre></div></div></div></div></div>"
            ]
          },
          "metadata": {},
          "execution_count": 34
        }
      ]
    },
    {
      "cell_type": "code",
      "source": [
        "# 重要度ベクトルの取得\n",
        "importances =  algorithm.feature_importances_\n",
        "\n",
        "# 項目名をキーにSeriesを生成\n",
        "w = pd.Series(importances, index=x.columns)\n",
        "\n",
        "# 値の大きい順にソート\n",
        "u = w.sort_values(ascending=False)\n",
        "\n",
        "# 結果確認\n",
        "print(u)"
      ],
      "metadata": {
        "colab": {
          "base_uri": "https://localhost:8080/"
        },
        "id": "gehCYNNtTyAw",
        "outputId": "e3f5e266-a90b-4f24-a15d-16eff06cfc4c"
      },
      "execution_count": 36,
      "outputs": [
        {
          "output_type": "stream",
          "name": "stdout",
          "text": [
            "花弁長    0.4611\n",
            "花弁幅    0.4257\n",
            "がく片長   0.0874\n",
            "がく片幅   0.0257\n",
            "dtype: float64\n"
          ]
        }
      ]
    },
    {
      "cell_type": "code",
      "source": [
        "# 重要度の棒グラフ表示\n",
        "\n",
        "# 棒グラフ表示\n",
        "plt.bar(range(len(u)), u, color='b', align='center')\n",
        "\n",
        "# 項目名表示（90度回転）\n",
        "plt.xticks(range(len(u)), u.index, rotation=90)\n",
        "\n",
        "# タイトル表示\n",
        "plt.title('入力変数の重要度')\n",
        "\n",
        "plt.show()"
      ],
      "metadata": {
        "colab": {
          "base_uri": "https://localhost:8080/",
          "height": 330
        },
        "id": "FjSX4kB6Ud8Y",
        "outputId": "e6ef92ed-4260-4197-ead7-20dd5509fb98"
      },
      "execution_count": 38,
      "outputs": [
        {
          "output_type": "display_data",
          "data": {
            "text/plain": [
              "<Figure size 432x288 with 1 Axes>"
            ],
            "image/png": "[encoded data removed]"
          },
          "metadata": {
            "needs_background": "light"
          }
        }
      ]
    },
    {
      "cell_type": "markdown",
      "source": [
        "## 4.4.6 回帰の戻るの評価方法"
      ],
      "metadata": {
        "id": "mlnxZjPLWLU1"
      }
    },
    {
      "cell_type": "code",
      "source": [],
      "metadata": {
        "id": "vJENVUaEVPUh"
      },
      "execution_count": null,
      "outputs": []
    }
  ]
}