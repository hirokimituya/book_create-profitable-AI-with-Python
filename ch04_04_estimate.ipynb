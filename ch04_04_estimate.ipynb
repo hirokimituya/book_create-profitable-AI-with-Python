{
  "nbformat": 4,
  "nbformat_minor": 0,
  "metadata": {
    "colab": {
      "provenance": [],
      "authorship_tag": "ABX9TyOvNHaMchKPBCWsCLqbrVPC",
      "include_colab_link": true
    },
    "kernelspec": {
      "name": "python3",
      "display_name": "Python 3"
    },
    "language_info": {
      "name": "python"
    }
  },
  "cells": [
    {
      "cell_type": "markdown",
      "metadata": {
        "id": "view-in-github",
        "colab_type": "text"
      },
      "source": [
        "<a href=\"https://colab.research.google.com/github/hirokimituya/book_create-profitable-AI-with-Python/blob/main/ch04_04_estimate.ipynb\" target=\"_parent\"><img src=\"https://colab.research.google.com/assets/colab-badge.svg\" alt=\"Open In Colab\"/></a>"
      ]
    },
    {
      "cell_type": "markdown",
      "source": [
        "# 4.4 評価"
      ],
      "metadata": {
        "id": "dXZHoUnHK1Y2"
      }
    },
    {
      "cell_type": "code",
      "source": [
        "# 日本語化ライブラリ導入\n",
        "!pip install japanize-matplotlib | tail -n 1"
      ],
      "metadata": {
        "colab": {
          "base_uri": "https://localhost:8080/"
        },
        "id": "R0YtXfUWNy80",
        "outputId": "f166eedb-ffcc-46e9-9cc8-6686aa63a4dc"
      },
      "execution_count": 1,
      "outputs": [
        {
          "output_type": "stream",
          "name": "stdout",
          "text": [
            "Successfully installed japanize-matplotlib-1.1.3\n"
          ]
        }
      ]
    },
    {
      "cell_type": "code",
      "source": [
        "# 共通事前処理\n",
        "\n",
        "# 余分なワーニングを非表示にする\n",
        "import warnings\n",
        "warnings.filterwarnings('ignore')\n",
        "\n",
        "# 必要ライブラリのimport\n",
        "import pandas as pd\n",
        "import numpy as np\n",
        "import matplotlib.pyplot as plt\n",
        "\n",
        "# matplotlib日本語化対応\n",
        "import japanize_matplotlib\n",
        "\n",
        "# データフレーム表示用関数\n",
        "from IPython.display import display\n",
        "\n",
        "# 表示オプション調整\n",
        "# numpyの浮動小数点の表示精度\n",
        "np.set_printoptions(suppress=True, precision=4)\n",
        "# pandasでの浮動小数点の表示精度\n",
        "pd.options.display.float_format = '{:.4f}'.format\n",
        "# データフレームですべての項目を表示\n",
        "pd.set_option(\"display.max_columns\",None)\n",
        "# グラフのデフォルトフォント指定\n",
        "plt.rcParams[\"font.size\"] = 14\n",
        "# 乱数の種\n",
        "random_seed = 123"
      ],
      "metadata": {
        "id": "a79awYl8N098"
      },
      "execution_count": 2,
      "outputs": []
    },
    {
      "cell_type": "markdown",
      "source": [
        "## 4.4.1 混同行列"
      ],
      "metadata": {
        "id": "HN6hVdnfLORZ"
      }
    },
    {
      "cell_type": "code",
      "execution_count": 3,
      "metadata": {
        "id": "XshtjK7xKzOY"
      },
      "outputs": [],
      "source": [
        "from pickle import load\n",
        "# データ読み込みからデータ分割まで\n",
        "\n",
        "# ライブラリのimport\n",
        "from sklearn.datasets import load_breast_cancer\n",
        "\n",
        "# データのロード\n",
        "cancer = load_breast_cancer()\n",
        "\n",
        "# 入力データx\n",
        "x = cancer.data\n",
        "\n",
        "# 正解データy\n",
        "# 良性: 0 悪性: 1に値を変換する\n",
        "y = 1 - cancer.target\n",
        "\n",
        "# 入力データを2次元に絞り込み\n",
        "x2 = x[:, :2]\n",
        "\n",
        "# (4)データ分割\n",
        "from sklearn.model_selection import train_test_split\n",
        "x_train, x_test, y_train, y_test = train_test_split(x2, y, train_size=0.7, test_size=0.3,\n",
        "                                                    random_state=random_seed)"
      ]
    },
    {
      "cell_type": "code",
      "source": [
        "# アルゴリズム選択から評価まで\n",
        "\n",
        "# アルゴリズム選択（ロジスティック回帰）\n",
        "from sklearn.linear_model import LogisticRegression\n",
        "algorithm = LogisticRegression(random_state=random_seed)\n",
        "\n",
        "# 学習\n",
        "algorithm.fit(x_train, y_train)\n",
        "\n",
        "# 予測\n",
        "y_pred = algorithm.predict(x_test)\n",
        "\n",
        "# 評価\n",
        "score = algorithm.score(x_test, y_test)\n",
        "\n",
        "# 結果確認\n",
        "print(f'score: {score:.4f}')"
      ],
      "metadata": {
        "colab": {
          "base_uri": "https://localhost:8080/"
        },
        "id": "A-aIN-RBOrAY",
        "outputId": "4de2080c-1a10-4444-b96f-9c244d3383c5"
      },
      "execution_count": 4,
      "outputs": [
        {
          "output_type": "stream",
          "name": "stdout",
          "text": [
            "score: 0.8772\n"
          ]
        }
      ]
    },
    {
      "cell_type": "code",
      "source": [
        "# 混同行列の計算\n",
        "\n",
        "# 必要なライブラリの取り込み\n",
        "from sklearn.metrics import confusion_matrix\n",
        "\n",
        "# 混同行列の生成\n",
        "# y_test: 検証データの正解データ\n",
        "# y_pred: 検証データの予測結果\n",
        "matrix = confusion_matrix(y_test, y_pred)\n",
        "\n",
        "# 結果確認\n",
        "print(matrix)"
      ],
      "metadata": {
        "colab": {
          "base_uri": "https://localhost:8080/"
        },
        "id": "6TFwV6K7PmYD",
        "outputId": "74ce6bc1-0b97-44d7-90fd-a9b35c038f59"
      },
      "execution_count": 5,
      "outputs": [
        {
          "output_type": "stream",
          "name": "stdout",
          "text": [
            "[[101   2]\n",
            " [ 19  49]]\n"
          ]
        }
      ]
    },
    {
      "cell_type": "code",
      "source": [
        "# 混同行列表示用関数\n",
        "\n",
        "def make_cm(matrix, columns):\n",
        "    # matrix numpy配列\n",
        "\n",
        "    # columns項目名リスト\n",
        "    n = len(columns)\n",
        "\n",
        "    # '正解データ'をn回繰り返すリスト生成\n",
        "    act = ['正解データ'] * n\n",
        "    pred = ['予測結果'] * n\n",
        "\n",
        "    # データフレーム生成\n",
        "    cm = pd.DataFrame(matrix, columns=[pred, columns], index=[act, columns])\n",
        "    \n",
        "    return cm"
      ],
      "metadata": {
        "id": "mYDwyUVYQP0h"
      },
      "execution_count": 6,
      "outputs": []
    },
    {
      "cell_type": "code",
      "source": [
        "# make_cmを使った混同行列の表示\n",
        "cm = make_cm(matrix, ['良性', '悪性'])\n",
        "display(cm)"
      ],
      "metadata": {
        "colab": {
          "base_uri": "https://localhost:8080/",
          "height": 143
        },
        "id": "4wVnLQnnRBXv",
        "outputId": "36c3246b-0ba8-451e-99fc-e8538eea0e5b"
      },
      "execution_count": 7,
      "outputs": [
        {
          "output_type": "display_data",
          "data": {
            "text/plain": [
              "         予測結果    \n",
              "           良性  悪性\n",
              "正解データ 良性  101   2\n",
              "      悪性   19  49"
            ],
            "text/html": [
              "\n",
              "  <div id=\"df-653d7405-8121-4fe5-8708-dcf0e3e068ce\">\n",
              "    <div class=\"colab-df-container\">\n",
              "      <div>\n",
              "<style scoped>\n",
              "    .dataframe tbody tr th:only-of-type {\n",
              "        vertical-align: middle;\n",
              "    }\n",
              "\n",
              "    .dataframe tbody tr th {\n",
              "        vertical-align: top;\n",
              "    }\n",
              "\n",
              "    .dataframe thead tr th {\n",
              "        text-align: left;\n",
              "    }\n",
              "</style>\n",
              "<table border=\"1\" class=\"dataframe\">\n",
              "  <thead>\n",
              "    <tr>\n",
              "      <th></th>\n",
              "      <th></th>\n",
              "      <th colspan=\"2\" halign=\"left\">予測結果</th>\n",
              "    </tr>\n",
              "    <tr>\n",
              "      <th></th>\n",
              "      <th></th>\n",
              "      <th>良性</th>\n",
              "      <th>悪性</th>\n",
              "    </tr>\n",
              "  </thead>\n",
              "  <tbody>\n",
              "    <tr>\n",
              "      <th rowspan=\"2\" valign=\"top\">正解データ</th>\n",
              "      <th>良性</th>\n",
              "      <td>101</td>\n",
              "      <td>2</td>\n",
              "    </tr>\n",
              "    <tr>\n",
              "      <th>悪性</th>\n",
              "      <td>19</td>\n",
              "      <td>49</td>\n",
              "    </tr>\n",
              "  </tbody>\n",
              "</table>\n",
              "</div>\n",
              "      <button class=\"colab-df-convert\" onclick=\"convertToInteractive('df-653d7405-8121-4fe5-8708-dcf0e3e068ce')\"\n",
              "              title=\"Convert this dataframe to an interactive table.\"\n",
              "              style=\"display:none;\">\n",
              "        \n",
              "  <svg xmlns=\"http://www.w3.org/2000/svg\" height=\"24px\"viewBox=\"0 0 24 24\"\n",
              "       width=\"24px\">\n",
              "    <path d=\"M0 0h24v24H0V0z\" fill=\"none\"/>\n",
              "    <path d=\"M18.56 5.44l.94 2.06.94-2.06 2.06-.94-2.06-.94-.94-2.06-.94 2.06-2.06.94zm-11 1L8.5 8.5l.94-2.06 2.06-.94-2.06-.94L8.5 2.5l-.94 2.06-2.06.94zm10 10l.94 2.06.94-2.06 2.06-.94-2.06-.94-.94-2.06-.94 2.06-2.06.94z\"/><path d=\"M17.41 7.96l-1.37-1.37c-.4-.4-.92-.59-1.43-.59-.52 0-1.04.2-1.43.59L10.3 9.45l-7.72 7.72c-.78.78-.78 2.05 0 2.83L4 21.41c.39.39.9.59 1.41.59.51 0 1.02-.2 1.41-.59l7.78-7.78 2.81-2.81c.8-.78.8-2.07 0-2.86zM5.41 20L4 18.59l7.72-7.72 1.47 1.35L5.41 20z\"/>\n",
              "  </svg>\n",
              "      </button>\n",
              "      \n",
              "  <style>\n",
              "    .colab-df-container {\n",
              "      display:flex;\n",
              "      flex-wrap:wrap;\n",
              "      gap: 12px;\n",
              "    }\n",
              "\n",
              "    .colab-df-convert {\n",
              "      background-color: #E8F0FE;\n",
              "      border: none;\n",
              "      border-radius: 50%;\n",
              "      cursor: pointer;\n",
              "      display: none;\n",
              "      fill: #1967D2;\n",
              "      height: 32px;\n",
              "      padding: 0 0 0 0;\n",
              "      width: 32px;\n",
              "    }\n",
              "\n",
              "    .colab-df-convert:hover {\n",
              "      background-color: #E2EBFA;\n",
              "      box-shadow: 0px 1px 2px rgba(60, 64, 67, 0.3), 0px 1px 3px 1px rgba(60, 64, 67, 0.15);\n",
              "      fill: #174EA6;\n",
              "    }\n",
              "\n",
              "    [theme=dark] .colab-df-convert {\n",
              "      background-color: #3B4455;\n",
              "      fill: #D2E3FC;\n",
              "    }\n",
              "\n",
              "    [theme=dark] .colab-df-convert:hover {\n",
              "      background-color: #434B5C;\n",
              "      box-shadow: 0px 1px 3px 1px rgba(0, 0, 0, 0.15);\n",
              "      filter: drop-shadow(0px 1px 2px rgba(0, 0, 0, 0.3));\n",
              "      fill: #FFFFFF;\n",
              "    }\n",
              "  </style>\n",
              "\n",
              "      <script>\n",
              "        const buttonEl =\n",
              "          document.querySelector('#df-653d7405-8121-4fe5-8708-dcf0e3e068ce button.colab-df-convert');\n",
              "        buttonEl.style.display =\n",
              "          google.colab.kernel.accessAllowed ? 'block' : 'none';\n",
              "\n",
              "        async function convertToInteractive(key) {\n",
              "          const element = document.querySelector('#df-653d7405-8121-4fe5-8708-dcf0e3e068ce');\n",
              "          const dataTable =\n",
              "            await google.colab.kernel.invokeFunction('convertToInteractive',\n",
              "                                                     [key], {});\n",
              "          if (!dataTable) return;\n",
              "\n",
              "          const docLinkHtml = 'Like what you see? Visit the ' +\n",
              "            '<a target=\"_blank\" href=https://colab.research.google.com/notebooks/data_table.ipynb>data table notebook</a>'\n",
              "            + ' to learn more about interactive tables.';\n",
              "          element.innerHTML = '';\n",
              "          dataTable['output_type'] = 'display_data';\n",
              "          await google.colab.output.renderOutput(dataTable, element);\n",
              "          const docLink = document.createElement('div');\n",
              "          docLink.innerHTML = docLinkHtml;\n",
              "          element.appendChild(docLink);\n",
              "        }\n",
              "      </script>\n",
              "    </div>\n",
              "  </div>\n",
              "  "
            ]
          },
          "metadata": {}
        }
      ]
    },
    {
      "cell_type": "markdown",
      "source": [
        "## 4.4.2 精度・適合率・再現率・F値"
      ],
      "metadata": {
        "id": "vxYhFomPRpUY"
      }
    },
    {
      "cell_type": "markdown",
      "source": [
        "\n",
        "\n",
        "* 精度（Accuracy） ... 「正解数」を「全体件数」で割った比率 (TP + TN) / (TP + FP + FN + TN)\n",
        "* 適合率（Precision） ... モデルが「陽性」と予測した対象のうち、本当に「陽性」だった割合 TP / (TP + FP)\n",
        "* 再現率（Recall） ... 本当に「陽性」だったデータのうち、どの程度をモデルで「陽性」と検知できたか TP / (TP + FN)\n",
        "* F値（F-score） ... 適合率と再現率の調和平均 2 * (適合率) * (再現率) / ((適合率) + (再現率))\n",
        "\n",
        "\n"
      ],
      "metadata": {
        "id": "z8HVJaKNZmyG"
      }
    },
    {
      "cell_type": "code",
      "source": [
        "# 適合率・再現率・F値の計算\n",
        "\n",
        "# ライブラリの取り込み\n",
        "from sklearn.metrics import precision_recall_fscore_support\n",
        "\n",
        "# 適合率・再現率・F値の計算\n",
        "precision, recall, fscore, _ = precision_recall_fscore_support(\n",
        "    y_test, y_pred, average='binary')\n",
        "\n",
        "# 結果の確認\n",
        "print(f'適合率: {precision:.4f}')\n",
        "print(f'再現率: {recall:.4f}')\n",
        "print(f'F値: {fscore:.4f}')"
      ],
      "metadata": {
        "id": "CDe9VLanRWE8",
        "colab": {
          "base_uri": "https://localhost:8080/"
        },
        "outputId": "2c41a9e8-2dd6-48e8-c5f8-86a80701d710"
      },
      "execution_count": 8,
      "outputs": [
        {
          "output_type": "stream",
          "name": "stdout",
          "text": [
            "適合率: 0.9608\n",
            "再現率: 0.7206\n",
            "F値: 0.8235\n"
          ]
        }
      ]
    },
    {
      "cell_type": "markdown",
      "source": [
        "## 4.4.3 確率値と閾値"
      ],
      "metadata": {
        "id": "jf_bRNNQgbRy"
      }
    },
    {
      "cell_type": "code",
      "source": [
        "# 確率値の取得\n",
        "y_proba = algorithm.predict_proba(x_test)\n",
        "print(y_proba[10:20, :])"
      ],
      "metadata": {
        "colab": {
          "base_uri": "https://localhost:8080/"
        },
        "id": "HKhc3x0Ue6sa",
        "outputId": "5579d740-4d9d-4134-a515-2e70c333817a"
      },
      "execution_count": 10,
      "outputs": [
        {
          "output_type": "stream",
          "name": "stdout",
          "text": [
            "[[0.7889 0.2111]\n",
            " [0.0812 0.9188]\n",
            " [0.8383 0.1617]\n",
            " [0.9391 0.0609]\n",
            " [0.369  0.631 ]\n",
            " [0.9451 0.0549]\n",
            " [0.9399 0.0601]\n",
            " [0.9494 0.0506]\n",
            " [0.9617 0.0383]\n",
            " [0.9836 0.0164]]\n"
          ]
        }
      ]
    },
    {
      "cell_type": "code",
      "source": [
        "# positive(1)の確率値の取得\n",
        "y_proba1 = y_proba[:, 1]\n",
        "\n",
        "# 結果確認\n",
        "print(y_test[10:20])\n",
        "print(y_pred[10:20])\n",
        "print(y_proba1[10:20])"
      ],
      "metadata": {
        "colab": {
          "base_uri": "https://localhost:8080/"
        },
        "id": "NQyFZRIeismo",
        "outputId": "716045f8-8249-41ae-fd11-d9cc8d5c101f"
      },
      "execution_count": 11,
      "outputs": [
        {
          "output_type": "stream",
          "name": "stdout",
          "text": [
            "[0 1 1 0 1 0 0 0 0 0]\n",
            "[0 1 0 0 1 0 0 0 0 0]\n",
            "[0.2111 0.9188 0.1617 0.0609 0.631  0.0549 0.0601 0.0506 0.0383 0.0164]\n"
          ]
        }
      ]
    },
    {
      "cell_type": "code",
      "source": [
        "# 閾値を変化させる\n",
        "thres = 0.5\n",
        "print((y_proba1[10:20] > thres).astype(int))\n",
        "\n",
        "thres = 0.7\n",
        "print((y_proba1[10:20] > thres).astype(int))"
      ],
      "metadata": {
        "colab": {
          "base_uri": "https://localhost:8080/"
        },
        "id": "5Pqd4Lugjj8a",
        "outputId": "ca0c5984-d6d6-48f7-c043-e97da83609d5"
      },
      "execution_count": 12,
      "outputs": [
        {
          "output_type": "stream",
          "name": "stdout",
          "text": [
            "[0 1 0 0 1 0 0 0 0 0]\n",
            "[0 1 0 0 0 0 0 0 0 0]\n"
          ]
        }
      ]
    },
    {
      "cell_type": "code",
      "source": [
        "# 閾値を変更した場合の予測関数の定義\n",
        "def pred(algorithm, x, thres):\n",
        "    # 確率値の取得（行列）\n",
        "    y_proba = algorithm.predict_proba(x)\n",
        "\n",
        "    # 予測結果1の確率値\n",
        "    y_proba1 = y_proba[:, 1]\n",
        "\n",
        "    # 予測結果1の確率 > 閾値\n",
        "    y_pred = (y_proba1 > thres).astype(int)\n",
        "    return y_pred"
      ],
      "metadata": {
        "id": "c9mMgwzHkpDZ"
      },
      "execution_count": 13,
      "outputs": []
    },
    {
      "cell_type": "code",
      "source": [
        "# 閾値0.5で予測結果取得\n",
        "pred_05 = pred(algorithm, x_test, 0.5)\n",
        "\n",
        "# 閾値0.7で予測結果取得\n",
        "pred_07 = pred(algorithm, x_test, 0.7)\n",
        "\n",
        "# 結果確認\n",
        "print(pred_05[10:20])\n",
        "print(pred_07[10:20])"
      ],
      "metadata": {
        "colab": {
          "base_uri": "https://localhost:8080/"
        },
        "id": "PyIlXpFJlyoO",
        "outputId": "fcea4c8e-72f4-4a34-c595-31b68dfdbdb5"
      },
      "execution_count": 14,
      "outputs": [
        {
          "output_type": "stream",
          "name": "stdout",
          "text": [
            "[0 1 0 0 1 0 0 0 0 0]\n",
            "[0 1 0 0 0 0 0 0 0 0]\n"
          ]
        }
      ]
    },
    {
      "cell_type": "markdown",
      "source": [
        "## 4.4.4 PR曲線とROC曲線"
      ],
      "metadata": {
        "id": "bjbQxn_ymw47"
      }
    },
    {
      "cell_type": "code",
      "source": [],
      "metadata": {
        "id": "2XMn4rOJmHmS"
      },
      "execution_count": null,
      "outputs": []
    }
  ]
}