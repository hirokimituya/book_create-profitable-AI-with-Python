{
  "nbformat": 4,
  "nbformat_minor": 0,
  "metadata": {
    "colab": {
      "provenance": [],
      "authorship_tag": "ABX9TyMqJlX/3YXOlxpODwha7wrJ",
      "include_colab_link": true
    },
    "kernelspec": {
      "name": "python3",
      "display_name": "Python 3"
    },
    "language_info": {
      "name": "python"
    }
  },
  "cells": [
    {
      "cell_type": "markdown",
      "metadata": {
        "id": "view-in-github",
        "colab_type": "text"
      },
      "source": [
        "<a href=\"https://colab.research.google.com/github/hirokimituya/book_create-profitable-AI-with-Python/blob/main/ch05_04_item_recommend.ipynb\" target=\"_parent\"><img src=\"https://colab.research.google.com/assets/colab-badge.svg\" alt=\"Open In Colab\"/></a>"
      ]
    },
    {
      "cell_type": "markdown",
      "source": [
        "# 5.4 お勧め商品の提案(アソシエーション分析)"
      ],
      "metadata": {
        "id": "tua-B7wkMC9e"
      }
    },
    {
      "cell_type": "markdown",
      "source": [
        "## 共通事前処理\n"
      ],
      "metadata": {
        "id": "MMZBB83gMFm2"
      }
    },
    {
      "cell_type": "code",
      "execution_count": 1,
      "metadata": {
        "colab": {
          "base_uri": "https://localhost:8080/"
        },
        "id": "wWJnUsHTMAt5",
        "outputId": "1ed9c1ee-36df-4053-99b7-e0f97ff2c273"
      },
      "outputs": [
        {
          "output_type": "stream",
          "name": "stdout",
          "text": [
            "Successfully installed japanize-matplotlib-1.1.3\n"
          ]
        }
      ],
      "source": [
        "# 日本語化ライブラリ導入\n",
        "!pip install japanize-matplotlib | tail -n 1"
      ]
    },
    {
      "cell_type": "code",
      "source": [
        "# 共通事前処理\n",
        "\n",
        "# 余分なワーニングを非表示にする\n",
        "import warnings\n",
        "warnings.filterwarnings('ignore')\n",
        "\n",
        "# 必要ライブラリのimport\n",
        "import pandas as pd\n",
        "import numpy as np\n",
        "import matplotlib.pyplot as plt\n",
        "\n",
        "# matplotlib日本語化対応\n",
        "import japanize_matplotlib\n",
        "\n",
        "# データフレーム表示用関数\n",
        "from IPython.display import display\n",
        "\n",
        "# 表示オプション調整\n",
        "# numpyの浮動小数点の表示精度\n",
        "np.set_printoptions(suppress=True, precision=4)\n",
        "\n",
        "# pandasでの浮動小数点の表示精度\n",
        "pd.options.display.float_format = '{:.4f}'.format\n",
        "\n",
        "# データフレームですべての項目を表示\n",
        "pd.set_option(\"display.max_columns\",None)\n",
        "\n",
        "# グラフのデフォルトフォント指定\n",
        "plt.rcParams[\"font.size\"] = 14\n",
        "\n",
        "# 乱数の種\n",
        "random_seed = 123"
      ],
      "metadata": {
        "id": "US8WML4QMIJE"
      },
      "execution_count": 2,
      "outputs": []
    },
    {
      "cell_type": "markdown",
      "source": [
        "## 5.4.4 データ読み込みからデータ確認まで"
      ],
      "metadata": {
        "id": "xuecX8oDPosd"
      }
    },
    {
      "cell_type": "code",
      "source": [
        "# データ読み込み\n",
        "# 公開データはExcel形式なので、read_excel関数で直接読み込む\n",
        "# 時間がかなりかかるので注意してください (ファイルサイズ 約23MB)\n",
        "df = pd.read_excel('http://archive.ics.uci.edu/ml/\\\n",
        "machine-learning-databases/00352/Online%20Retail.xlsx')\n",
        "\n",
        "# 項目名を日本語に変更\n",
        "columns = [\n",
        "    '発注番号', '商品番号', '商品説明', '商品個数', '明細書発行日', \n",
        "    '商品単価', '顧客番号', '国名'\n",
        "]\n",
        "df.columns = columns"
      ],
      "metadata": {
        "id": "D6PuGaZhMJfO"
      },
      "execution_count": null,
      "outputs": []
    },
    {
      "cell_type": "code",
      "source": [],
      "metadata": {
        "id": "EMrrPOREP6Ev"
      },
      "execution_count": null,
      "outputs": []
    }
  ]
}